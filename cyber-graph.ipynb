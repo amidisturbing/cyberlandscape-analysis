{
 "cells": [
  {
   "cell_type": "code",
   "execution_count": 3,
   "metadata": {},
   "outputs": [],
   "source": [
    "import networkx as nx\n",
    "import json\n",
    "import numpy as np\n",
    "import networkx as nx\n",
    "import matplotlib.pyplot as plt\n",
    "%matplotlib inline\n",
    "from bs4 import BeautifulSoup\n",
    "from networkx.readwrite import json_graph\n",
    "from networkx.algorithms import node_classification\n",
    "import plotly.graph_objs as go\n",
    "from ipywidgets import widgets\n"
   ]
  },
  {
   "cell_type": "code",
   "execution_count": 4,
   "metadata": {},
   "outputs": [],
   "source": [
    "path = \"../cyberlandscape/data.graphml\"\n",
    "\n",
    "#START get  Edge Attribute Fields with id----------------\n",
    "e_attr_types = []\n",
    "\n",
    "with open(path) as file:\n",
    "    soup = BeautifulSoup(file, \"lxml\")\n",
    "    edges = soup.findAll(\"key\",{\"for\":\"edge\"})\n",
    "\n",
    "for edge in edges:\n",
    "    #print (edge['id'])\n",
    "    if edge.has_attr('attr.name'):\n",
    "        e_attr_types.append({'id': edge['id'], 'attr':edge['attr.name']})\n",
    "#STOP get Node Attribute Fields and Edge Attribute Fields with id------------------------"
   ]
  },
  {
   "cell_type": "code",
   "execution_count": 5,
   "metadata": {},
   "outputs": [],
   "source": [
    "#read graphml\n",
    "G = nx.read_graphml(path)\n",
    "edges = G.edges\n",
    "nodes = G.nodes\n",
    "nodes_data = nodes.data()\n",
    "#node ids\n",
    "nodes_values = nodes.values()\n",
    "edges_data =  edges.data()\n",
    "#edge ids\n",
    "edges_values = edges.values()"
   ]
  },
  {
   "cell_type": "code",
   "execution_count": 6,
   "metadata": {},
   "outputs": [
    {
     "name": "stdout",
     "output_type": "stream",
     "text": [
      "num of nodes:  167 num of edges:  110\n"
     ]
    }
   ],
   "source": [
    "print('num of nodes: ', G.number_of_nodes(), 'num of edges: ', G.number_of_edges())"
   ]
  },
  {
   "cell_type": "code",
   "execution_count": 7,
   "metadata": {},
   "outputs": [
    {
     "data": {
      "text/plain": [
       "['n31', 'n27', 'n165', 'n48', 'n0', 'n16', 'n15', 'n13', 'n14', 'n23']"
      ]
     },
     "execution_count": 7,
     "metadata": {},
     "output_type": "execute_result"
    }
   ],
   "source": [
    "list(G.neighbors('n4'))"
   ]
  },
  {
   "cell_type": "code",
   "execution_count": 8,
   "metadata": {},
   "outputs": [
    {
     "data": {
      "text/plain": [
       "['n31', 'n27', 'n165', 'n48', 'n0', 'n16', 'n15', 'n13', 'n14', 'n23']"
      ]
     },
     "execution_count": 8,
     "metadata": {},
     "output_type": "execute_result"
    }
   ],
   "source": [
    "list(G.successors('n4'))"
   ]
  },
  {
   "cell_type": "code",
   "execution_count": 9,
   "metadata": {},
   "outputs": [
    {
     "data": {
      "text/plain": [
       "{'n0': 0.031685331478511776,\n",
       " 'n1': 0.003350907389037193,\n",
       " 'n2': 0.003350907389037193,\n",
       " 'n3': 0.003350907389037193,\n",
       " 'n4': 0.007461199998679496,\n",
       " 'n5': 0.003350907389037193,\n",
       " 'n6': 0.02249522636766985,\n",
       " 'n7': 0.008337817044786746,\n",
       " 'n8': 0.003350907389037193,\n",
       " 'n9': 0.03033324268513395,\n",
       " 'n10': 0.003350907389037193,\n",
       " 'n11': 0.006366807663797423,\n",
       " 'n12': 0.0043562074806239364,\n",
       " 'n13': 0.01459784335886202,\n",
       " 'n14': 0.017919677926912923,\n",
       " 'n15': 0.01459784335886202,\n",
       " 'n16': 0.009680872587285703,\n",
       " 'n17': 0.013549517687108893,\n",
       " 'n18': 0.022157337886035865,\n",
       " 'n19': 0.003350907389037193,\n",
       " 'n20': 0.003350907389037193,\n",
       " 'n21': 0.015358914954164218,\n",
       " 'n22': 0.008581775154333456,\n",
       " 'n23': 0.04520586609956048,\n",
       " 'n24': 0.0077301943843202684,\n",
       " 'n25': 0.006366807663797423,\n",
       " 'n26': 0.005851586936184849,\n",
       " 'n27': 0.02014561431598529,\n",
       " 'n28': 0.007799388792038754,\n",
       " 'n29': 0.006366807663797423,\n",
       " 'n30': 0.007384374383684808,\n",
       " 'n31': 0.006201098944322197,\n",
       " 'n32': 0.008337817044786746,\n",
       " 'n33': 0.009876895766245187,\n",
       " 'n34': 0.003350907389037193,\n",
       " 'n35': 0.0048588575264173085,\n",
       " 'n36': 0.0071089811078051636,\n",
       " 'n37': 0.028303527137205586,\n",
       " 'n38': 0.010174613932250458,\n",
       " 'n39': 0.005601030970425049,\n",
       " 'n40': 0.02249796349783461,\n",
       " 'n41': 0.008323090967368224,\n",
       " 'n42': 0.003350907389037193,\n",
       " 'n43': 0.017300320729619217,\n",
       " 'n44': 0.01554712123521867,\n",
       " 'n45': 0.003350907389037193,\n",
       " 'n46': 0.006724894292733524,\n",
       " 'n47': 0.005601030970425049,\n",
       " 'n48': 0.004022416921976326,\n",
       " 'n49': 0.003350907389037193,\n",
       " 'n50': 0.005601030970425049,\n",
       " 'n51': 0.042220744708396166,\n",
       " 'n52': 0.005601030970425049,\n",
       " 'n53': 0.014489708851142143,\n",
       " 'n54': 0.007698213743899316,\n",
       " 'n55': 0.016746235454424625,\n",
       " 'n56': 0.003350907389037193,\n",
       " 'n57': 0.003350907389037193,\n",
       " 'n58': 0.003350907389037193,\n",
       " 'n59': 0.003350907389037193,\n",
       " 'n60': 0.003350907389037193,\n",
       " 'n61': 0.003350907389037193,\n",
       " 'n62': 0.003350907389037193,\n",
       " 'n63': 0.003350907389037193,\n",
       " 'n64': 0.003350907389037193,\n",
       " 'n65': 0.003350907389037193,\n",
       " 'n66': 0.003350907389037193,\n",
       " 'n67': 0.003350907389037193,\n",
       " 'n68': 0.003350907389037193,\n",
       " 'n69': 0.003350907389037193,\n",
       " 'n70': 0.003350907389037193,\n",
       " 'n71': 0.003350907389037193,\n",
       " 'n72': 0.003350907389037193,\n",
       " 'n73': 0.003350907389037193,\n",
       " 'n74': 0.003350907389037193,\n",
       " 'n75': 0.003350907389037193,\n",
       " 'n76': 0.003350907389037193,\n",
       " 'n77': 0.003350907389037193,\n",
       " 'n78': 0.003350907389037193,\n",
       " 'n79': 0.003350907389037193,\n",
       " 'n80': 0.003350907389037193,\n",
       " 'n81': 0.003350907389037193,\n",
       " 'n82': 0.003350907389037193,\n",
       " 'n83': 0.003350907389037193,\n",
       " 'n84': 0.003350907389037193,\n",
       " 'n85': 0.003350907389037193,\n",
       " 'n86': 0.003350907389037193,\n",
       " 'n87': 0.003350907389037193,\n",
       " 'n88': 0.003350907389037193,\n",
       " 'n89': 0.003350907389037193,\n",
       " 'n90': 0.003350907389037193,\n",
       " 'n91': 0.003350907389037193,\n",
       " 'n92': 0.003350907389037193,\n",
       " 'n93': 0.003350907389037193,\n",
       " 'n94': 0.003350907389037193,\n",
       " 'n95': 0.003350907389037193,\n",
       " 'n96': 0.003350907389037193,\n",
       " 'n97': 0.003350907389037193,\n",
       " 'n98': 0.003350907389037193,\n",
       " 'n99': 0.003350907389037193,\n",
       " 'n100': 0.003350907389037193,\n",
       " 'n101': 0.003350907389037193,\n",
       " 'n102': 0.003350907389037193,\n",
       " 'n103': 0.003350907389037193,\n",
       " 'n104': 0.003350907389037193,\n",
       " 'n105': 0.003350907389037193,\n",
       " 'n106': 0.003350907389037193,\n",
       " 'n107': 0.003350907389037193,\n",
       " 'n108': 0.003350907389037193,\n",
       " 'n109': 0.003350907389037193,\n",
       " 'n110': 0.003350907389037193,\n",
       " 'n111': 0.003350907389037193,\n",
       " 'n112': 0.003350907389037193,\n",
       " 'n113': 0.003350907389037193,\n",
       " 'n114': 0.003350907389037193,\n",
       " 'n115': 0.003350907389037193,\n",
       " 'n116': 0.003350907389037193,\n",
       " 'n117': 0.003350907389037193,\n",
       " 'n118': 0.003350907389037193,\n",
       " 'n119': 0.003350907389037193,\n",
       " 'n120': 0.003350907389037193,\n",
       " 'n121': 0.003350907389037193,\n",
       " 'n122': 0.003350907389037193,\n",
       " 'n123': 0.003350907389037193,\n",
       " 'n124': 0.003350907389037193,\n",
       " 'n125': 0.003350907389037193,\n",
       " 'n126': 0.003350907389037193,\n",
       " 'n127': 0.003350907389037193,\n",
       " 'n128': 0.003350907389037193,\n",
       " 'n129': 0.003350907389037193,\n",
       " 'n130': 0.003350907389037193,\n",
       " 'n131': 0.003350907389037193,\n",
       " 'n132': 0.003350907389037193,\n",
       " 'n133': 0.003350907389037193,\n",
       " 'n134': 0.003350907389037193,\n",
       " 'n135': 0.003350907389037193,\n",
       " 'n136': 0.003350907389037193,\n",
       " 'n137': 0.003350907389037193,\n",
       " 'n138': 0.003350907389037193,\n",
       " 'n139': 0.003350907389037193,\n",
       " 'n140': 0.003350907389037193,\n",
       " 'n141': 0.003350907389037193,\n",
       " 'n142': 0.003350907389037193,\n",
       " 'n143': 0.003350907389037193,\n",
       " 'n144': 0.003350907389037193,\n",
       " 'n145': 0.003350907389037193,\n",
       " 'n146': 0.003350907389037193,\n",
       " 'n147': 0.003350907389037193,\n",
       " 'n148': 0.003350907389037193,\n",
       " 'n149': 0.003350907389037193,\n",
       " 'n150': 0.003350907389037193,\n",
       " 'n151': 0.003350907389037193,\n",
       " 'n152': 0.003350907389037193,\n",
       " 'n153': 0.003350907389037193,\n",
       " 'n154': 0.003350907389037193,\n",
       " 'n155': 0.003350907389037193,\n",
       " 'n156': 0.003350907389037193,\n",
       " 'n157': 0.003350907389037193,\n",
       " 'n158': 0.003350907389037193,\n",
       " 'n159': 0.003350907389037193,\n",
       " 'n160': 0.003350907389037193,\n",
       " 'n161': 0.003350907389037193,\n",
       " 'n162': 0.003350907389037193,\n",
       " 'n163': 0.003350907389037193,\n",
       " 'n164': 0.003350907389037193,\n",
       " 'n165': 0.004022416921976326,\n",
       " 'n166': 0.003350907389037193}"
      ]
     },
     "execution_count": 9,
     "metadata": {},
     "output_type": "execute_result"
    }
   ],
   "source": [
    "pr_numpy = nx.pagerank_numpy(G, alpha=0.9)\n",
    "pr_scipy = nx.pagerank_scipy(G, alpha=0.9)\n",
    "pr_scipy"
   ]
  },
  {
   "cell_type": "code",
   "execution_count": 10,
   "metadata": {},
   "outputs": [
    {
     "name": "stdout",
     "output_type": "stream",
     "text": [
      "Hubs:  {'n0': 0.0, 'n1': 7.108810214840792e-67, 'n2': 0.024431155390008258, 'n3': 0.019679844727734198, 'n4': 0.1314387663148486, 'n5': 0.019679844727734198, 'n6': 0.05164468572518043, 'n7': 0.034281194860267435, 'n8': 0.02065634085217584, 'n9': 0.03471974863290957, 'n10': 0.002136853952025298, 'n11': 0.043065151978804894, 'n12': 0.0, 'n13': 0.022544283126576203, 'n14': 0.03591807338165285, 'n15': 0.022544283126576203, 'n16': 0.03145501878018377, 'n17': 7.108810214840792e-67, 'n18': 0.036701468566567405, 'n19': 0.01167581965256329, 'n20': 0.0017395601052529975, 'n21': 0.013551615080161433, 'n22': 0.00899266804641477, 'n23': 0.09130441208182741, 'n24': 0.0014217341100492779, 'n25': 0.012980760399448373, 'n26': 0.0, 'n27': 0.0017227625760797192, 'n28': 0.0, 'n29': 0.0, 'n30': 0.031160843351215273, 'n31': 0.0297558195844888, 'n32': 0.0, 'n33': 0.0016489618109071854, 'n34': 7.108810214840792e-67, 'n35': 0.0, 'n36': 0.0, 'n37': 8.631540200928815e-05, 'n38': 0.0, 'n39': 0.0, 'n40': 0.03323240255887931, 'n41': 0.0, 'n42': 0.014056692370921983, 'n43': 0.023966017236625482, 'n44': 0.0046869448899646456, 'n45': 7.108810214840792e-67, 'n46': 0.012739106250957364, 'n47': 0.0, 'n48': 0.0, 'n49': 0.0, 'n50': 0.0, 'n51': 0.13602254789164914, 'n52': 0.0, 'n53': 0.011573933896216932, 'n54': 0.014056692370921983, 'n55': 0.0, 'n56': 0.0, 'n57': 0.0, 'n58': 0.012727676190199941, 'n59': 0.0, 'n60': 0.0, 'n61': 0.0, 'n62': 0.0, 'n63': 0.0, 'n64': 0.0, 'n65': 0.0, 'n66': 0.0, 'n67': 0.0, 'n68': 0.0, 'n69': 0.0, 'n70': 0.0, 'n71': 0.0, 'n72': 0.0, 'n73': 0.0, 'n74': 0.0, 'n75': 0.0, 'n76': 0.0, 'n77': 0.0, 'n78': 0.0, 'n79': 0.0, 'n80': 0.0, 'n81': 0.0, 'n82': 0.0, 'n83': 0.0, 'n84': 0.0, 'n85': 0.0, 'n86': 0.0, 'n87': 0.0, 'n88': 0.0, 'n89': 0.0, 'n90': 0.0, 'n91': 0.0, 'n92': 0.0, 'n93': 0.0, 'n94': 0.0, 'n95': 0.0, 'n96': 0.0, 'n97': 0.0, 'n98': 0.0, 'n99': 0.0, 'n100': 0.0, 'n101': 0.0, 'n102': 0.0, 'n103': 0.0, 'n104': 0.0, 'n105': 0.0, 'n106': 0.0, 'n107': 0.0, 'n108': 0.0, 'n109': 0.0, 'n110': 0.0, 'n111': 0.0, 'n112': 0.0, 'n113': 0.0, 'n114': 0.0, 'n115': 0.0, 'n116': 0.0, 'n117': 0.0, 'n118': 0.0, 'n119': 0.0, 'n120': 0.0, 'n121': 0.0, 'n122': 0.0, 'n123': 0.0, 'n124': 0.0, 'n125': 0.0, 'n126': 0.0, 'n127': 0.0, 'n128': 0.0, 'n129': 0.0, 'n130': 0.0, 'n131': 0.0, 'n132': 0.0, 'n133': 0.0, 'n134': 0.0, 'n135': 0.0, 'n136': 0.0, 'n137': 0.0, 'n138': 0.0, 'n139': 0.0, 'n140': 0.0, 'n141': 0.0, 'n142': 0.0, 'n143': 0.0, 'n144': 0.0, 'n145': 0.0, 'n146': 0.0, 'n147': 0.0, 'n148': 0.0, 'n149': 0.0, 'n150': 0.0, 'n151': 0.0, 'n152': 0.0, 'n153': 0.0, 'n154': 0.0, 'n155': 0.0, 'n156': 0.0, 'n157': 0.0, 'n158': 0.0, 'n159': 0.0, 'n160': 0.0, 'n161': 0.0, 'n162': 0.0, 'n163': 0.0, 'n164': 0.0, 'n165': 0.0, 'n166': 0.0}\n"
     ]
    }
   ],
   "source": [
    "h,a=nx.hits(G)\n",
    "#Hubs estimates the node value based on outgoing links.\n",
    "print ('Hubs: ', h)"
   ]
  },
  {
   "cell_type": "code",
   "execution_count": 11,
   "metadata": {},
   "outputs": [
    {
     "name": "stdout",
     "output_type": "stream",
     "text": [
      "authorities:  {'n0': 0.0781701989820416, 'n1': 0.0, 'n2': 0.0, 'n3': 0.0, 'n4': 0.011827583795141362, 'n5': 0.0, 'n6': 0.0056472619484383224, 'n7': 0.006891600998064117, 'n8': 0.0, 'n9': 0.0003428529159466496, 'n10': 0.0, 'n11': 2.8236864503130343e-66, 'n12': 0.004587548709207268, 'n13': 0.06736706543427298, 'n14': 0.07321827813077982, 'n15': 0.06736706543427298, 'n16': 0.055809807446590774, 'n17': 0.03763120615798072, 'n18': 0.05156080433567078, 'n19': 0.0, 'n20': 0.0, 'n21': 0.05077275157492071, 'n22': 0.03362810856531239, 'n23': 0.05382829295656842, 'n24': 0.014285105269207574, 'n25': 2.8236864503130343e-66, 'n26': 0.006437135234353212, 'n27': 0.046377456638825136, 'n28': 0.008487785393447623, 'n29': 2.8236864503130343e-66, 'n30': 0.006744499344401499, 'n31': 0.030587303866263064, 'n32': 0.006891600998064117, 'n33': 0.008079741358123735, 'n34': 0.0, 'n35': 0.003878734685605628, 'n36': 0.006566843855045305, 'n37': 0.0068429754011819915, 'n38': 0.006519484468658424, 'n39': 0.006240198773215245, 'n40': 0.05055552999179946, 'n41': 0.005278977590254393, 'n42': 0.0, 'n43': 0.05238376948673766, 'n44': 2.8236864503130343e-66, 'n45': 0.0, 'n46': 0.009697556560000306, 'n47': 0.006240198773215245, 'n48': 0.024680852507535624, 'n49': 0.0, 'n50': 0.006240198773215245, 'n51': 0.035719725449715155, 'n52': 0.006240198773215245, 'n53': 0.006549831802826574, 'n54': 0.002173289999396291, 'n55': 0.012969725112952067, 'n56': 0.0, 'n57': 0.0, 'n58': 0.0, 'n59': 0.0, 'n60': 0.0, 'n61': 0.0, 'n62': 0.0, 'n63': 0.0, 'n64': 0.0, 'n65': 0.0, 'n66': 0.0, 'n67': 0.0, 'n68': 0.0, 'n69': 0.0, 'n70': 0.0, 'n71': 0.0, 'n72': 0.0, 'n73': 0.0, 'n74': 0.0, 'n75': 0.0, 'n76': 0.0, 'n77': 0.0, 'n78': 0.0, 'n79': 0.0, 'n80': 0.0, 'n81': 0.0, 'n82': 0.0, 'n83': 0.0, 'n84': 0.0, 'n85': 0.0, 'n86': 0.0, 'n87': 0.0, 'n88': 0.0, 'n89': 0.0, 'n90': 0.0, 'n91': 0.0, 'n92': 0.0, 'n93': 0.0, 'n94': 0.0, 'n95': 0.0, 'n96': 0.0, 'n97': 0.0, 'n98': 0.0, 'n99': 0.0, 'n100': 0.0, 'n101': 0.0, 'n102': 0.0, 'n103': 0.0, 'n104': 0.0, 'n105': 0.0, 'n106': 0.0, 'n107': 0.0, 'n108': 0.0, 'n109': 0.0, 'n110': 0.0, 'n111': 0.0, 'n112': 0.0, 'n113': 0.0, 'n114': 0.0, 'n115': 0.0, 'n116': 0.0, 'n117': 0.0, 'n118': 0.0, 'n119': 0.0, 'n120': 0.0, 'n121': 0.0, 'n122': 0.0, 'n123': 0.0, 'n124': 0.0, 'n125': 0.0, 'n126': 0.0, 'n127': 0.0, 'n128': 0.0, 'n129': 0.0, 'n130': 0.0, 'n131': 0.0, 'n132': 0.0, 'n133': 0.0, 'n134': 0.0, 'n135': 0.0, 'n136': 0.0, 'n137': 0.0, 'n138': 0.0, 'n139': 0.0, 'n140': 0.0, 'n141': 0.0, 'n142': 0.0, 'n143': 0.0, 'n144': 0.0, 'n145': 0.0, 'n146': 0.0, 'n147': 0.0, 'n148': 0.0, 'n149': 0.0, 'n150': 0.0, 'n151': 0.0, 'n152': 0.0, 'n153': 0.0, 'n154': 0.0, 'n155': 0.0, 'n156': 0.0, 'n157': 0.0, 'n158': 0.0, 'n159': 0.0, 'n160': 0.0, 'n161': 0.0, 'n162': 0.0, 'n163': 0.0, 'n164': 0.0, 'n165': 0.024680852507535624, 'n166': 0.0}\n"
     ]
    }
   ],
   "source": [
    "#Authorities estimates the node value based on the incoming links. \n",
    "print ('authorities: ', a)"
   ]
  },
  {
   "cell_type": "code",
   "execution_count": 12,
   "metadata": {},
   "outputs": [
    {
     "data": {
      "text/plain": [
       "matrix([[0.00598802, 0.00598802, 0.00598802, ..., 0.00598802, 0.00598802,\n",
       "         0.00598802],\n",
       "        [0.0008982 , 0.0008982 , 0.0008982 , ..., 0.0008982 , 0.0008982 ,\n",
       "         0.0008982 ],\n",
       "        [0.28423154, 0.0008982 , 0.0008982 , ..., 0.0008982 , 0.0008982 ,\n",
       "         0.0008982 ],\n",
       "        ...,\n",
       "        [0.00598802, 0.00598802, 0.00598802, ..., 0.00598802, 0.00598802,\n",
       "         0.00598802],\n",
       "        [0.00598802, 0.00598802, 0.00598802, ..., 0.00598802, 0.00598802,\n",
       "         0.00598802],\n",
       "        [0.00598802, 0.00598802, 0.00598802, ..., 0.00598802, 0.00598802,\n",
       "         0.00598802]])"
      ]
     },
     "execution_count": 12,
     "metadata": {},
     "output_type": "execute_result"
    }
   ],
   "source": [
    "g_mat = nx.google_matrix(G)\n",
    "g_mat"
   ]
  },
  {
   "cell_type": "code",
   "execution_count": 13,
   "metadata": {},
   "outputs": [
    {
     "data": {
      "text/plain": [
       "{'n0': nan,\n",
       " 'n1': 1.0,\n",
       " 'n2': 0.3333333333333333,\n",
       " 'n3': 1.0,\n",
       " 'n4': 0.1730876422888285,\n",
       " 'n5': 1.0,\n",
       " 'n6': 0.2415980795610425,\n",
       " 'n7': 0.43578125,\n",
       " 'n8': 0.5,\n",
       " 'n9': 0.2908950617283951,\n",
       " 'n10': 1.0,\n",
       " 'n11': 0.20000000000000004,\n",
       " 'n12': nan,\n",
       " 'n13': 0.3868655489809336,\n",
       " 'n14': 0.23840067184418146,\n",
       " 'n15': 0.3868655489809336,\n",
       " 'n16': 0.34413540879314686,\n",
       " 'n17': 0.39043209876543206,\n",
       " 'n18': 0.2134375,\n",
       " 'n19': 1.0,\n",
       " 'n20': 0.5,\n",
       " 'n21': 0.375,\n",
       " 'n22': 0.5555555555555556,\n",
       " 'n23': 0.1729191321499014,\n",
       " 'n24': 0.5555555555555556,\n",
       " 'n25': 0.5,\n",
       " 'n26': nan,\n",
       " 'n27': 0.25869261188271603,\n",
       " 'n28': nan,\n",
       " 'n29': nan,\n",
       " 'n30': 0.5555555555555556,\n",
       " 'n31': 0.5037081916099774,\n",
       " 'n32': nan,\n",
       " 'n33': 0.5555555555555556,\n",
       " 'n34': 1.0,\n",
       " 'n35': nan,\n",
       " 'n36': nan,\n",
       " 'n37': 0.7191358024691358,\n",
       " 'n38': nan,\n",
       " 'n39': nan,\n",
       " 'n40': 0.10476409458459308,\n",
       " 'n41': nan,\n",
       " 'n42': 0.5,\n",
       " 'n43': 0.3333333333333333,\n",
       " 'n44': 0.5528978052126199,\n",
       " 'n45': 1.0,\n",
       " 'n46': 0.5528978052126199,\n",
       " 'n47': nan,\n",
       " 'n48': nan,\n",
       " 'n49': nan,\n",
       " 'n50': nan,\n",
       " 'n51': 0.10790131330309902,\n",
       " 'n52': nan,\n",
       " 'n53': 0.3392380401234568,\n",
       " 'n54': 0.39654513888888887,\n",
       " 'n55': nan,\n",
       " 'n56': nan,\n",
       " 'n57': nan,\n",
       " 'n58': 1.0,\n",
       " 'n59': nan,\n",
       " 'n60': nan,\n",
       " 'n61': nan,\n",
       " 'n62': nan,\n",
       " 'n63': nan,\n",
       " 'n64': nan,\n",
       " 'n65': nan,\n",
       " 'n66': nan,\n",
       " 'n67': nan,\n",
       " 'n68': nan,\n",
       " 'n69': nan,\n",
       " 'n70': nan,\n",
       " 'n71': nan,\n",
       " 'n72': nan,\n",
       " 'n73': nan,\n",
       " 'n74': nan,\n",
       " 'n75': nan,\n",
       " 'n76': nan,\n",
       " 'n77': nan,\n",
       " 'n78': nan,\n",
       " 'n79': nan,\n",
       " 'n80': nan,\n",
       " 'n81': nan,\n",
       " 'n82': nan,\n",
       " 'n83': nan,\n",
       " 'n84': nan,\n",
       " 'n85': nan,\n",
       " 'n86': nan,\n",
       " 'n87': nan,\n",
       " 'n88': nan,\n",
       " 'n89': nan,\n",
       " 'n90': nan,\n",
       " 'n91': nan,\n",
       " 'n92': nan,\n",
       " 'n93': nan,\n",
       " 'n94': nan,\n",
       " 'n95': nan,\n",
       " 'n96': nan,\n",
       " 'n97': nan,\n",
       " 'n98': nan,\n",
       " 'n99': nan,\n",
       " 'n100': nan,\n",
       " 'n101': nan,\n",
       " 'n102': nan,\n",
       " 'n103': nan,\n",
       " 'n104': nan,\n",
       " 'n105': nan,\n",
       " 'n106': nan,\n",
       " 'n107': nan,\n",
       " 'n108': nan,\n",
       " 'n109': nan,\n",
       " 'n110': nan,\n",
       " 'n111': nan,\n",
       " 'n112': nan,\n",
       " 'n113': nan,\n",
       " 'n114': nan,\n",
       " 'n115': nan,\n",
       " 'n116': nan,\n",
       " 'n117': nan,\n",
       " 'n118': nan,\n",
       " 'n119': nan,\n",
       " 'n120': nan,\n",
       " 'n121': nan,\n",
       " 'n122': nan,\n",
       " 'n123': nan,\n",
       " 'n124': nan,\n",
       " 'n125': nan,\n",
       " 'n126': nan,\n",
       " 'n127': nan,\n",
       " 'n128': nan,\n",
       " 'n129': nan,\n",
       " 'n130': nan,\n",
       " 'n131': nan,\n",
       " 'n132': nan,\n",
       " 'n133': nan,\n",
       " 'n134': nan,\n",
       " 'n135': nan,\n",
       " 'n136': nan,\n",
       " 'n137': nan,\n",
       " 'n138': nan,\n",
       " 'n139': nan,\n",
       " 'n140': nan,\n",
       " 'n141': nan,\n",
       " 'n142': nan,\n",
       " 'n143': nan,\n",
       " 'n144': nan,\n",
       " 'n145': nan,\n",
       " 'n146': nan,\n",
       " 'n147': nan,\n",
       " 'n148': nan,\n",
       " 'n149': nan,\n",
       " 'n150': nan,\n",
       " 'n151': nan,\n",
       " 'n152': nan,\n",
       " 'n153': nan,\n",
       " 'n154': nan,\n",
       " 'n155': nan,\n",
       " 'n156': nan,\n",
       " 'n157': nan,\n",
       " 'n158': nan,\n",
       " 'n159': nan,\n",
       " 'n160': nan,\n",
       " 'n161': nan,\n",
       " 'n162': nan,\n",
       " 'n163': nan,\n",
       " 'n164': nan,\n",
       " 'n165': nan,\n",
       " 'n166': nan}"
      ]
     },
     "execution_count": 13,
     "metadata": {},
     "output_type": "execute_result"
    }
   ],
   "source": [
    "nx.constraint(G)"
   ]
  },
  {
   "cell_type": "code",
   "execution_count": 14,
   "metadata": {},
   "outputs": [],
   "source": [
    "def get_subgraph_by_edge_attr(attr):\n",
    "    #grouping edges by edge attribute\n",
    "    edges_by_key = []\n",
    "    for e, datadict in G.edges.items():\n",
    "        #example: attr = 'oversight.legal'\n",
    "        key = attr\n",
    "        if key in datadict:\n",
    "            #print('datadict by key ;;;;;;;;;;;;;;', datadict[key])\n",
    "            edges_by_key.append(e)\n",
    "    G_e_key = G.edge_subgraph(edges_by_key)\n",
    "    #print(G_e_key.edges.data())\n",
    "    return G_e_key\n",
    "\n",
    "#calculate grid for mathplot\n",
    "e_attr_types_count = len(e_attr_types)\n",
    "r_count = e_attr_types_count / 2\n",
    "c_count = e_attr_types_count - r_count\n",
    "#p=1 left most column\n",
    "p = 0\n",
    "count = 0\n",
    "\n",
    "#get subgraphs for all edge attr\n",
    "for item in e_attr_types:\n",
    "    (key, val) = item.items()\n",
    "    current_edge_attr_type =val[1]\n",
    "    current_graph =  get_subgraph_by_edge_attr(current_edge_attr_type)\n",
    "    #print(\"test+++++++++++++++++++++++++++++\", r,c,p)"
   ]
  },
  {
   "cell_type": "code",
   "execution_count": 15,
   "metadata": {},
   "outputs": [
    {
     "name": "stderr",
     "output_type": "stream",
     "text": [
      "/opt/anaconda3/lib/python3.7/site-packages/networkx/drawing/nx_pylab.py:579: MatplotlibDeprecationWarning:\n",
      "\n",
      "\n",
      "The iterable function was deprecated in Matplotlib 3.1 and will be removed in 3.3. Use np.iterable instead.\n",
      "\n",
      "/opt/anaconda3/lib/python3.7/site-packages/networkx/drawing/nx_pylab.py:676: MatplotlibDeprecationWarning:\n",
      "\n",
      "\n",
      "The iterable function was deprecated in Matplotlib 3.1 and will be removed in 3.3. Use np.iterable instead.\n",
      "\n"
     ]
    },
    {
     "data": {
      "image/png": "[encoded data removed]",
      "text/plain": [
       "<Figure size 432x288 with 1 Axes>"
      ]
     },
     "metadata": {},
     "output_type": "display_data"
    }
   ],
   "source": [
    "pos = nx.spectral_layout(G)\n",
    "nx.draw(G, with_labels=True, font_weight='bold')\n",
    "#print('DEBUG: ---',edges_data)\n",
    "plt.show()\n",
    "#print(G.number_of_nodes(), G.number_of_edges())"
   ]
  },
  {
   "cell_type": "code",
   "execution_count": 16,
   "metadata": {},
   "outputs": [
    {
     "name": "stdout",
     "output_type": "stream",
     "text": [
      "n1\n",
      "n29\n",
      "n2\n",
      "n24\n",
      "n2\n",
      "n12\n",
      "n2\n",
      "n0\n",
      "n3\n",
      "n0\n",
      "n4\n",
      "n31\n",
      "n4\n",
      "n27\n",
      "n4\n",
      "n165\n",
      "n4\n",
      "n48\n",
      "n4\n",
      "n0\n",
      "n4\n",
      "n16\n",
      "n4\n",
      "n15\n",
      "n4\n",
      "n13\n",
      "n4\n",
      "n14\n",
      "n4\n",
      "n23\n",
      "n5\n",
      "n0\n",
      "n6\n",
      "n17\n",
      "n6\n",
      "n24\n",
      "n6\n",
      "n0\n",
      "n6\n",
      "n55\n",
      "n6\n",
      "n43\n",
      "n6\n",
      "n46\n",
      "n7\n",
      "n18\n",
      "n7\n",
      "n26\n",
      "n7\n",
      "n0\n",
      "n8\n",
      "n35\n",
      "n8\n",
      "n0\n",
      "n9\n",
      "n37\n",
      "n9\n",
      "n27\n",
      "n9\n",
      "n0\n",
      "n9\n",
      "n38\n",
      "n10\n",
      "n28\n",
      "n11\n",
      "n28\n",
      "n11\n",
      "n22\n",
      "n11\n",
      "n0\n",
      "n11\n",
      "n21\n",
      "n13\n",
      "n51\n",
      "n13\n",
      "n23\n",
      "n14\n",
      "n51\n",
      "n14\n",
      "n30\n",
      "n14\n",
      "n23\n",
      "n14\n",
      "n27\n",
      "n15\n",
      "n51\n",
      "n15\n",
      "n23\n",
      "n16\n",
      "n51\n",
      "n16\n",
      "n33\n",
      "n16\n",
      "n31\n",
      "n16\n",
      "n40\n",
      "n17\n",
      "n44\n",
      "n18\n",
      "n32\n",
      "n18\n",
      "n7\n",
      "n18\n",
      "n0\n",
      "n18\n",
      "n23\n",
      "n19\n",
      "n27\n",
      "n20\n",
      "n9\n",
      "n20\n",
      "n36\n",
      "n21\n",
      "n23\n",
      "n22\n",
      "n51\n",
      "n23\n",
      "n13\n",
      "n23\n",
      "n14\n",
      "n23\n",
      "n15\n",
      "n23\n",
      "n18\n",
      "n23\n",
      "n43\n",
      "n23\n",
      "n21\n",
      "n24\n",
      "n6\n",
      "n25\n",
      "n18\n",
      "n27\n",
      "n37\n",
      "n30\n",
      "n14\n",
      "n30\n",
      "n40\n",
      "n31\n",
      "n40\n",
      "n31\n",
      "n4\n",
      "n31\n",
      "n16\n",
      "n33\n",
      "n53\n",
      "n34\n",
      "n25\n",
      "n37\n",
      "n9\n",
      "n40\n",
      "n50\n",
      "n40\n",
      "n52\n",
      "n40\n",
      "n4\n",
      "n40\n",
      "n53\n",
      "n40\n",
      "n51\n",
      "n40\n",
      "n47\n",
      "n40\n",
      "n36\n",
      "n40\n",
      "n39\n",
      "n40\n",
      "n27\n",
      "n42\n",
      "n41\n",
      "n42\n",
      "n40\n",
      "n43\n",
      "n51\n",
      "n43\n",
      "n6\n",
      "n43\n",
      "n23\n",
      "n44\n",
      "n55\n",
      "n44\n",
      "n6\n",
      "n45\n",
      "n11\n",
      "n46\n",
      "n17\n",
      "n46\n",
      "n55\n",
      "n51\n",
      "n40\n",
      "n51\n",
      "n13\n",
      "n51\n",
      "n43\n",
      "n51\n",
      "n14\n",
      "n51\n",
      "n15\n",
      "n51\n",
      "n16\n",
      "n51\n",
      "n18\n",
      "n51\n",
      "n17\n",
      "n51\n",
      "n21\n",
      "n51\n",
      "n22\n",
      "n53\n",
      "n51\n",
      "n53\n",
      "n54\n",
      "n53\n",
      "n33\n",
      "n54\n",
      "n40\n",
      "n54\n",
      "n41\n",
      "n58\n",
      "n40\n"
     ]
    }
   ],
   "source": [
    "#acces node position\n",
    "G.nodes['n0']['x']\n",
    "G.nodes.values()\n",
    "for value in G.nodes.values():\n",
    "    #print (value['x'])\n",
    "    pass\n",
    "    \n",
    "for value in G.edges:\n",
    "    #get ids source node)\n",
    "    print (value[0])\n",
    "    #get ids target node)\n",
    "    print (value[1])\n",
    "   "
   ]
  },
  {
   "cell_type": "code",
   "execution_count": 17,
   "metadata": {},
   "outputs": [
    {
     "data": {
      "text/plain": [
       "array([-0.74649474, -0.49041327])"
      ]
     },
     "execution_count": 17,
     "metadata": {},
     "output_type": "execute_result"
    }
   ],
   "source": [
    "pos = nx.spring_layout(G, k=0.5, iterations=50)\n",
    "for n, p in pos.items():\n",
    "    #print (n, p)\n",
    "    G.node[n]['pos'] = p\n",
    "    #print(G.node[n])\n",
    "    \n",
    "G.nodes['n0']['pos']"
   ]
  },
  {
   "cell_type": "code",
   "execution_count": 35,
   "metadata": {},
   "outputs": [
    {
     "name": "stdout",
     "output_type": "stream",
     "text": [
      "Cyber-SR\n",
      "          \n",
      "BMG\n",
      "          \n",
      "AA\n",
      "          \n",
      "BMVI\n",
      "          \n",
      "BMI\n",
      "          \n",
      "BMJV\n",
      "          \n",
      "BMVg\n",
      "          \n",
      "BKAmt\n",
      "          \n",
      "BMBF\n",
      "          \n",
      "BMWi\n",
      "          \n",
      "BMZ\n",
      "          \n",
      "BMF\n",
      "          \n",
      "DIIS\n",
      "          \n",
      "Bpol\n",
      "          \n",
      "BKA\n",
      "          \n",
      "BfV\n",
      "          \n",
      "BBK\n",
      "          \n",
      "Bw\n",
      "          \n",
      "BND\n",
      "          \n",
      "BfDI\n",
      "          \n",
      "BNetzA\n",
      "          \n",
      "ZKA\n",
      "          \n",
      "BaFin\n",
      "          \n",
      "ZITiS\n",
      "          \n",
      "BAKS\n",
      "          \n",
      "UniBw\n",
      "          \n",
      "SWP\n",
      "          \n",
      "DsiN\n",
      "          \n",
      "GIZ\n",
      "          \n",
      "Telematikinfrastruktur\n",
      "          \n",
      "G4C\n",
      "          \n",
      "UP KRITIS\n",
      "          \n",
      "Initiative Wirtschaftsschutz\n",
      "          \n",
      "GMLZ\n",
      "          \n",
      "CODE\n",
      "          \n",
      "Kompetenz- & Forschungszentren für IT-Sicherheit\n",
      "          \n",
      "IT-Sicherheitskatalog\n",
      "          \n",
      "Initiative IT-Sicherheit i.d. Wirtschaft\n",
      "          \n",
      "Trusted Cloud\n",
      "          \n",
      "CERT-Verbund\n",
      "BSI\n",
      "          \n",
      "VCV\n",
      "          \n",
      "LSI\n",
      "          \n",
      "BAMAD\n",
      "          \n",
      "BAAINBw\n",
      "          \n",
      "ITZ Bund\n",
      "          \n",
      "BWI\n",
      "          \n",
      "Cyber Security Cluster Bonn e.V.\n",
      "ITSMIG\n",
      "          \n",
      "ENISA\n",
      "MIRT\n",
      "NCAZ\n",
      "AfCS\n",
      "LZ\n",
      "CERT-Bund\n",
      "CIH\n",
      "UN\n",
      "CCDCOE\n",
      "Bürger-Cert\n",
      "ZAC Baden-Württemberg\n",
      "\n",
      "\n",
      "ZAC Bayern\n",
      "\n",
      "ZAC Berlin\n",
      "\n",
      "CERT BWL\n",
      "Cyberwehr\n",
      "Zentralstelle für die Bekämpfung von Informations- und Kommunikationskriminalität - Baden-Württemberg\n",
      "CAZ\n",
      "BSI-Verbindungsbüro Region Süd\n",
      "Kompetenzzentrum Cybercrime\n",
      "ZCB\n",
      "BSI-Verbindungsbüro Region Berlin\n",
      "Spezialabteilug zur Bekämpfung von Internetkriminalität der Staatsanwaltschaft Berlin\n",
      "ZAC Brandenburg\n",
      "ZAC Bremen\n",
      "ZAC Hamburg\n",
      "ZAC Hessen\n",
      "ZAC Mecklenburg-Vorpommern\n",
      "ZAC Niedersachsen\n",
      "ZAC Nordrhein-Westfalen\n",
      "ZAC Rheinland-Pfalz\n",
      "ZAC Saarland\n",
      "ZAC Sachsen-Anhalt\n",
      "ZAC Sachsen\n",
      "ZAC Schleswig-Holstein\n",
      "ZAC Thüringen\n",
      "CERT Nord\n",
      "N CERT \n",
      "CERT Saarland\n",
      "CERT M-V\n",
      "CERT NRW\n",
      "Bayern CERT\n",
      "CERT Berlin\n",
      "CERT Brandenburg\n",
      "SAX.CERT\n",
      "CERT-rlp\n",
      "CERT Hessen\n",
      "Thüringen CERT\n",
      "BSI-Verbindungsbüro Region Nord\n",
      "BSI-Verbindungsbüro Region Rhein-Main\n",
      "BSI-Standort Region West (Bonn)\n",
      "BSI-Zweitstandort Region Ost\n",
      "CCC\n",
      "Schwerpunktstaatsanwaltschaft zur Bekämpfung der Computer- und\n",
      "Datennetzkriminalität Cobus\n",
      "LKA 54\n",
      "H3C\n",
      "ZIT\n",
      "FITKO\n",
      "Dernat Cybercrime des Landeskriminalamtes Mecklenburg-Vorpommern\n",
      "Schwerpunktstaatsanwaltschaft für die\n",
      "Bekämpfung der Informations-und Kommunikationskriminalität Rostock\n",
      "EMERGE IoT\n",
      "Netzverweis.de \n",
      "ZAC NRW\n",
      "Cybercrime-Kompetenzzentrum\n",
      "Dezernat Cybercrime des Landeskriminalamtes Rheinland-Pfalz\n",
      "Dezernat LPP 222 Cybercrime\n",
      "Dezernat Cybercrime der Staatsanwaltschaft Saarbrücken\n",
      "SN4C\n",
      "ZCS\n",
      "4C\n",
      "Dezernat Cybercrime des Landeskriminalamtes Thüringen\n",
      "IT-Planungsrat\n",
      "Sicherheitskooperation Cybercrime\n",
      "Nationaler Pakt Cybersicherheit\n",
      "Cyberbündnis mit der Wirtschaft\n",
      "SprinD\n",
      "Cyberagentur\n",
      "IT-Rat\n",
      "EAD\n",
      "CMPD\n",
      "EUMS INT\n",
      "INTCEN\n",
      "EU Hybrid Fusion Cell\n",
      "PESCO\n",
      "Kooperationsgruppe unter der NIS-Richtlinie\n",
      "Horizon 2020\n",
      "SOG-IS\n",
      "SKI-Kontaktgruppe\n",
      "ECTEG\n",
      "cPPP\n",
      "EGC Group\n",
      "NIS Platform\n",
      "ER\n",
      "PSK\n",
      "EK\n",
      "GD CONNECT\n",
      "GD HOME\n",
      "GD DIGIT\n",
      "CERT-EU\n",
      "ERCC\n",
      "TGG\n",
      "Europäische Gruppe für die Cybersicherheitszertifzierung\n",
      "EUCTF\n",
      "EVA\n",
      "EC3\n",
      "Eurojust\n",
      "CEPOL\n",
      "eu-LISA\n",
      "ISG C3M\n",
      "ISG CHT\n",
      "MeliCERTes\n",
      "CSIRTs Netzwerk\n",
      "EJCN\n",
      "EJTN\n",
      "ENISA-Beratungsgruppe\n",
      "Gruppe der Interessenträger für die Cybersicherheitszertifzierung\n",
      "TF-CSIRT\n",
      "AfCS\n",
      "NATO\n"
     ]
    }
   ],
   "source": [
    "#Create Edges\n",
    "#record the coordinates of edge ends\n",
    "Xe=[]\n",
    "Ye=[]\n",
    "for e in G.edges():\n",
    "    Xe.extend([pos[e[0]][0], pos[e[1]][0], None])\n",
    "    Ye.extend([pos[e[0]][1], pos[e[1]][1], None])\n",
    "    \n",
    "edge_trace = go.Scatter(\n",
    "    x=Xe,\n",
    "    y=Ye,\n",
    "    line=dict(width=0.5,color='#888'),\n",
    "    hoverinfo='none',\n",
    "    mode='lines')\n",
    "\n",
    "#get list of labels for each node\n",
    "labels = []\n",
    "for node in G.nodes:\n",
    "    print(G.nodes[str(node)]['label'])\n",
    "    labels.append(G.nodes[str(node)]['label'])\n",
    "\n",
    "#define lists of node coordinates\n",
    "Xn=[pos['n'+str(k)][0] for k in range(len(pos))]\n",
    "Yn=[pos['n'+str(k)][1] for k in range(len(pos))]\n",
    "\n",
    "node_trace = go.Scatter(\n",
    "    x=Xn,\n",
    "    y=Yn,\n",
    "    text=labels,\n",
    "    mode='markers',\n",
    "    hoverinfo='text',\n",
    "    marker=dict(\n",
    "        showscale=True,\n",
    "        # colorscale options\n",
    "        #'Greys' | 'YlGnBu' | 'Greens' | 'YlOrRd' | 'Bluered' | 'RdBu' |\n",
    "        #'Reds' | 'Blues' | 'Picnic' | 'Rainbow' | 'Portland' | 'Jet' |\n",
    "        #'Hot' | 'Blackbody' | 'Earth' | 'Electric' | 'Viridis' |\n",
    "        colorscale='YlGnBu',\n",
    "        reversescale=True,\n",
    "        color=[],\n",
    "        size=10,\n",
    "        colorbar=dict(\n",
    "            thickness=15,\n",
    "            title='Node Connections',\n",
    "            xanchor='left',\n",
    "            titleside='right'\n",
    "        ),\n",
    "        line=dict(width=2)))"
   ]
  },
  {
   "cell_type": "code",
   "execution_count": 36,
   "metadata": {
    "scrolled": true
   },
   "outputs": [
    {
     "name": "stdout",
     "output_type": "stream",
     "text": [
      "Cyber-SR\n",
      "           n0:  # of connections: 0\n",
      "BMG\n",
      "           n1:  # of connections: 1\n",
      "AA\n",
      "           n2:  # of connections: 3\n",
      "BMVI\n",
      "           n3:  # of connections: 1\n",
      "BMI\n",
      "           n4:  # of connections: 10\n",
      "BMJV\n",
      "           n5:  # of connections: 1\n",
      "BMVg\n",
      "           n6:  # of connections: 6\n",
      "BKAmt\n",
      "           n7:  # of connections: 3\n",
      "BMBF\n",
      "           n8:  # of connections: 2\n",
      "BMWi\n",
      "           n9:  # of connections: 4\n",
      "BMZ\n",
      "           n10:  # of connections: 1\n",
      "BMF\n",
      "           n11:  # of connections: 4\n",
      "DIIS\n",
      "           n12:  # of connections: 0\n",
      "Bpol\n",
      "           n13:  # of connections: 2\n",
      "BKA\n",
      "           n14:  # of connections: 4\n",
      "BfV\n",
      "           n15:  # of connections: 2\n",
      "BBK\n",
      "           n16:  # of connections: 4\n",
      "Bw\n",
      "           n17:  # of connections: 1\n",
      "BND\n",
      "           n18:  # of connections: 4\n",
      "BfDI\n",
      "           n19:  # of connections: 1\n",
      "BNetzA\n",
      "           n20:  # of connections: 2\n",
      "ZKA\n",
      "           n21:  # of connections: 1\n",
      "BaFin\n",
      "           n22:  # of connections: 1\n",
      "ZITiS\n",
      "           n23:  # of connections: 6\n",
      "BAKS\n",
      "           n24:  # of connections: 1\n",
      "UniBw\n",
      "           n25:  # of connections: 1\n",
      "SWP\n",
      "           n26:  # of connections: 0\n",
      "DsiN\n",
      "           n27:  # of connections: 1\n",
      "GIZ\n",
      "           n28:  # of connections: 0\n",
      "Telematikinfrastruktur\n",
      "           n29:  # of connections: 0\n",
      "G4C\n",
      "           n30:  # of connections: 2\n",
      "UP KRITIS\n",
      "           n31:  # of connections: 3\n",
      "Initiative Wirtschaftsschutz\n",
      "           n32:  # of connections: 0\n",
      "GMLZ\n",
      "           n33:  # of connections: 1\n",
      "CODE\n",
      "           n34:  # of connections: 1\n",
      "Kompetenz- & Forschungszentren für IT-Sicherheit\n",
      "           n35:  # of connections: 0\n",
      "IT-Sicherheitskatalog\n",
      "           n36:  # of connections: 0\n",
      "Initiative IT-Sicherheit i.d. Wirtschaft\n",
      "           n37:  # of connections: 1\n",
      "Trusted Cloud\n",
      "           n38:  # of connections: 0\n",
      "CERT-Verbund n39:  # of connections: 0\n",
      "BSI\n",
      "           n40:  # of connections: 9\n",
      "VCV\n",
      "           n41:  # of connections: 0\n",
      "LSI\n",
      "           n42:  # of connections: 2\n",
      "BAMAD\n",
      "           n43:  # of connections: 3\n",
      "BAAINBw\n",
      "           n44:  # of connections: 2\n",
      "ITZ Bund\n",
      "           n45:  # of connections: 1\n",
      "BWI\n",
      "           n46:  # of connections: 2\n",
      "Cyber Security Cluster Bonn e.V. n47:  # of connections: 0\n",
      "ITSMIG\n",
      "           n48:  # of connections: 0\n",
      "ENISA n49:  # of connections: 0\n",
      "MIRT n50:  # of connections: 0\n",
      "NCAZ n51:  # of connections: 10\n",
      "AfCS n52:  # of connections: 0\n",
      "LZ n53:  # of connections: 3\n",
      "CERT-Bund n54:  # of connections: 2\n",
      "CIH n55:  # of connections: 0\n",
      "UN n56:  # of connections: 0\n",
      "CCDCOE n57:  # of connections: 0\n",
      "Bürger-Cert n58:  # of connections: 1\n",
      "ZAC Baden-Württemberg\n",
      "\n",
      " n59:  # of connections: 0\n",
      "ZAC Bayern\n",
      " n60:  # of connections: 0\n",
      "ZAC Berlin\n",
      " n61:  # of connections: 0\n",
      "CERT BWL n62:  # of connections: 0\n",
      "Cyberwehr n63:  # of connections: 0\n",
      "Zentralstelle für die Bekämpfung von Informations- und Kommunikationskriminalität - Baden-Württemberg n64:  # of connections: 0\n",
      "CAZ n65:  # of connections: 0\n",
      "BSI-Verbindungsbüro Region Süd n66:  # of connections: 0\n",
      "Kompetenzzentrum Cybercrime n67:  # of connections: 0\n",
      "ZCB n68:  # of connections: 0\n",
      "BSI-Verbindungsbüro Region Berlin n69:  # of connections: 0\n",
      "Spezialabteilug zur Bekämpfung von Internetkriminalität der Staatsanwaltschaft Berlin n70:  # of connections: 0\n",
      "ZAC Brandenburg n71:  # of connections: 0\n",
      "ZAC Bremen n72:  # of connections: 0\n",
      "ZAC Hamburg n73:  # of connections: 0\n",
      "ZAC Hessen n74:  # of connections: 0\n",
      "ZAC Mecklenburg-Vorpommern n75:  # of connections: 0\n",
      "ZAC Niedersachsen n76:  # of connections: 0\n",
      "ZAC Nordrhein-Westfalen n77:  # of connections: 0\n",
      "ZAC Rheinland-Pfalz n78:  # of connections: 0\n",
      "ZAC Saarland n79:  # of connections: 0\n",
      "ZAC Sachsen-Anhalt n80:  # of connections: 0\n",
      "ZAC Sachsen n81:  # of connections: 0\n",
      "ZAC Schleswig-Holstein n82:  # of connections: 0\n",
      "ZAC Thüringen n83:  # of connections: 0\n",
      "CERT Nord n84:  # of connections: 0\n",
      "N CERT  n85:  # of connections: 0\n",
      "CERT Saarland n86:  # of connections: 0\n",
      "CERT M-V n87:  # of connections: 0\n",
      "CERT NRW n88:  # of connections: 0\n",
      "Bayern CERT n89:  # of connections: 0\n",
      "CERT Berlin n90:  # of connections: 0\n",
      "CERT Brandenburg n91:  # of connections: 0\n",
      "SAX.CERT n92:  # of connections: 0\n",
      "CERT-rlp n93:  # of connections: 0\n",
      "CERT Hessen n94:  # of connections: 0\n",
      "Thüringen CERT n95:  # of connections: 0\n",
      "BSI-Verbindungsbüro Region Nord n96:  # of connections: 0\n",
      "BSI-Verbindungsbüro Region Rhein-Main n97:  # of connections: 0\n",
      "BSI-Standort Region West (Bonn) n98:  # of connections: 0\n",
      "BSI-Zweitstandort Region Ost n99:  # of connections: 0\n",
      "CCC n100:  # of connections: 0\n",
      "Schwerpunktstaatsanwaltschaft zur Bekämpfung der Computer- und\n",
      "Datennetzkriminalität Cobus n101:  # of connections: 0\n",
      "LKA 54 n102:  # of connections: 0\n",
      "H3C n103:  # of connections: 0\n",
      "ZIT n104:  # of connections: 0\n",
      "FITKO n105:  # of connections: 0\n",
      "Dernat Cybercrime des Landeskriminalamtes Mecklenburg-Vorpommern n106:  # of connections: 0\n",
      "Schwerpunktstaatsanwaltschaft für die\n",
      "Bekämpfung der Informations-und Kommunikationskriminalität Rostock n107:  # of connections: 0\n",
      "EMERGE IoT n108:  # of connections: 0\n",
      "Netzverweis.de  n109:  # of connections: 0\n",
      "ZAC NRW n110:  # of connections: 0\n",
      "Cybercrime-Kompetenzzentrum n111:  # of connections: 0\n",
      "Dezernat Cybercrime des Landeskriminalamtes Rheinland-Pfalz n112:  # of connections: 0\n",
      "Dezernat LPP 222 Cybercrime n113:  # of connections: 0\n",
      "Dezernat Cybercrime der Staatsanwaltschaft Saarbrücken n114:  # of connections: 0\n",
      "SN4C n115:  # of connections: 0\n",
      "ZCS n116:  # of connections: 0\n",
      "4C n117:  # of connections: 0\n",
      "Dezernat Cybercrime des Landeskriminalamtes Thüringen n118:  # of connections: 0\n",
      "IT-Planungsrat n119:  # of connections: 0\n",
      "Sicherheitskooperation Cybercrime n120:  # of connections: 0\n",
      "Nationaler Pakt Cybersicherheit n121:  # of connections: 0\n",
      "Cyberbündnis mit der Wirtschaft n122:  # of connections: 0\n",
      "SprinD n123:  # of connections: 0\n",
      "Cyberagentur n124:  # of connections: 0\n",
      "IT-Rat n125:  # of connections: 0\n",
      "EAD n126:  # of connections: 0\n",
      "CMPD n127:  # of connections: 0\n",
      "EUMS INT n128:  # of connections: 0\n",
      "INTCEN n129:  # of connections: 0\n",
      "EU Hybrid Fusion Cell n130:  # of connections: 0\n",
      "PESCO n131:  # of connections: 0\n",
      "Kooperationsgruppe unter der NIS-Richtlinie n132:  # of connections: 0\n",
      "Horizon 2020 n133:  # of connections: 0\n",
      "SOG-IS n134:  # of connections: 0\n",
      "SKI-Kontaktgruppe n135:  # of connections: 0\n",
      "ECTEG n136:  # of connections: 0\n",
      "cPPP n137:  # of connections: 0\n",
      "EGC Group n138:  # of connections: 0\n",
      "NIS Platform n139:  # of connections: 0\n",
      "ER n140:  # of connections: 0\n",
      "PSK n141:  # of connections: 0\n",
      "EK n142:  # of connections: 0\n",
      "GD CONNECT n143:  # of connections: 0\n",
      "GD HOME n144:  # of connections: 0\n",
      "GD DIGIT n145:  # of connections: 0\n",
      "CERT-EU n146:  # of connections: 0\n",
      "ERCC n147:  # of connections: 0\n",
      "TGG n148:  # of connections: 0\n",
      "Europäische Gruppe für die Cybersicherheitszertifzierung n149:  # of connections: 0\n",
      "EUCTF n150:  # of connections: 0\n",
      "EVA n151:  # of connections: 0\n",
      "EC3 n152:  # of connections: 0\n",
      "Eurojust n153:  # of connections: 0\n",
      "CEPOL n154:  # of connections: 0\n",
      "eu-LISA n155:  # of connections: 0\n",
      "ISG C3M n156:  # of connections: 0\n",
      "ISG CHT n157:  # of connections: 0\n",
      "MeliCERTes n158:  # of connections: 0\n",
      "CSIRTs Netzwerk n159:  # of connections: 0\n",
      "EJCN n160:  # of connections: 0\n",
      "EJTN n161:  # of connections: 0\n",
      "ENISA-Beratungsgruppe n162:  # of connections: 0\n",
      "Gruppe der Interessenträger für die Cybersicherheitszertifzierung n163:  # of connections: 0\n",
      "TF-CSIRT n164:  # of connections: 0\n",
      "AfCS n165:  # of connections: 0\n",
      "NATO n166:  # of connections: 0\n"
     ]
    }
   ],
   "source": [
    "#color nodes by num of connections\n",
    "for node, adjacencies in enumerate(G.adjacency()):\n",
    "    node_trace['marker']['color']+=tuple([len(adjacencies[1])])\n",
    "    node_attr = G.nodes['n'+str(node)]\n",
    "    #print(node_attr)\n",
    "    node_info = '# of connections: '+ str(len(adjacencies[1]))\n",
    "    print(node_attr['label'],'n'+str(node)+': ',node_info)"
   ]
  },
  {
   "cell_type": "code",
   "execution_count": 37,
   "metadata": {},
   "outputs": [
    {
     "data": {
      "application/vnd.plotly.v1+json": {
       "config": {
        "plotlyServerURL": "https://plot.ly"
       },
       "data": [
        {
         "hoverinfo": "text",
         "line": {
          "color": "#888",
          "width": 0.5
         },
         "mode": "lines",
         "text": "test",
         "type": "scatter",
         "x": [
          -0.5472314216961123,
          -0.4148273622990652,
          null,
          0.009054874570695828,
          0.3099182424370862,
          null,
          0.009054874570695828,
          0.19628906106352037,
          null,
          0.009054874570695828,
          -0.746494736756015,
          null,
          -0.8473358363409258,
          -0.746494736756015,
          null,
          -0.3496228242214483,
          -0.047780761269282455,
          null,
          -0.3496228242214483,
          -0.19079464943498353,
          null,
          -0.3496228242214483,
          -0.23256219930653135,
          null,
          -0.3496228242214483,
          -0.7550127536868623,
          null,
          -0.3496228242214483,
          -0.746494736756015,
          null,
          -0.3496228242214483,
          0.03818688519794959,
          null,
          -0.3496228242214483,
          0.043040092182271145,
          null,
          -0.3496228242214483,
          -0.6148902082872122,
          null,
          -0.3496228242214483,
          -0.12501771865813158,
          null,
          -0.3496228242214483,
          -0.3702782160273924,
          null,
          -0.09221028537571138,
          -0.746494736756015,
          null,
          0.03688277659452351,
          -0.29104799418534827,
          null,
          0.03688277659452351,
          0.3099182424370862,
          null,
          0.03688277659452351,
          -0.746494736756015,
          null,
          0.03688277659452351,
          0.7117693251493689,
          null,
          0.03688277659452351,
          -0.2837364284669173,
          null,
          0.03688277659452351,
          0.27270425699895573,
          null,
          -0.48927429066484424,
          -0.5419274282105657,
          null,
          -0.48927429066484424,
          -0.04551925532539118,
          null,
          -0.48927429066484424,
          -0.746494736756015,
          null,
          -0.37824219715455354,
          -0.6335521079112301,
          null,
          -0.37824219715455354,
          -0.746494736756015,
          null,
          -0.1373735420830612,
          -0.5080090529266332,
          null,
          -0.1373735420830612,
          -0.19079464943498353,
          null,
          -0.1373735420830612,
          -0.746494736756015,
          null,
          -0.1373735420830612,
          -0.24150895765083666,
          null,
          0.28231595175076507,
          0.8540642132086351,
          null,
          -0.18474902859071904,
          0.8540642132086351,
          null,
          -0.18474902859071904,
          -0.7938959196326064,
          null,
          -0.18474902859071904,
          -0.746494736756015,
          null,
          -0.18474902859071904,
          -0.5413050373798518,
          null,
          -0.6148902082872122,
          -0.3566673427091743,
          null,
          -0.6148902082872122,
          -0.3702782160273924,
          null,
          -0.12501771865813158,
          -0.3566673427091743,
          null,
          -0.12501771865813158,
          -0.06402181323978103,
          null,
          -0.12501771865813158,
          -0.3702782160273924,
          null,
          -0.12501771865813158,
          -0.19079464943498353,
          null,
          0.043040092182271145,
          -0.3566673427091743,
          null,
          0.043040092182271145,
          -0.3702782160273924,
          null,
          0.03818688519794959,
          -0.3566673427091743,
          null,
          0.03818688519794959,
          0.28821776302249724,
          null,
          0.03818688519794959,
          -0.047780761269282455,
          null,
          0.03818688519794959,
          0.047513966738466376,
          null,
          -0.29104799418534827,
          0.01676528526470329,
          null,
          -0.5419274282105657,
          -0.9201938493813793,
          null,
          -0.5419274282105657,
          -0.48927429066484424,
          null,
          -0.5419274282105657,
          -0.746494736756015,
          null,
          -0.5419274282105657,
          -0.3702782160273924,
          null,
          0.1173681790673302,
          -0.19079464943498353,
          null,
          0.1203204972751963,
          -0.1373735420830612,
          null,
          0.1203204972751963,
          -0.8822721069600864,
          null,
          -0.5413050373798518,
          -0.3702782160273924,
          null,
          -0.7938959196326064,
          -0.3566673427091743,
          null,
          -0.3702782160273924,
          -0.6148902082872122,
          null,
          -0.3702782160273924,
          -0.12501771865813158,
          null,
          -0.3702782160273924,
          0.043040092182271145,
          null,
          -0.3702782160273924,
          -0.5419274282105657,
          null,
          -0.3702782160273924,
          -0.2837364284669173,
          null,
          -0.3702782160273924,
          -0.5413050373798518,
          null,
          0.3099182424370862,
          0.03688277659452351,
          null,
          0.04441313695074178,
          -0.5419274282105657,
          null,
          -0.19079464943498353,
          -0.5080090529266332,
          null,
          -0.06402181323978103,
          -0.12501771865813158,
          null,
          -0.06402181323978103,
          0.047513966738466376,
          null,
          -0.047780761269282455,
          0.047513966738466376,
          null,
          -0.047780761269282455,
          -0.3496228242214483,
          null,
          -0.047780761269282455,
          0.03818688519794959,
          null,
          0.28821776302249724,
          -0.09762166801530757,
          null,
          0.4290471869293269,
          0.04441313695074178,
          null,
          -0.5080090529266332,
          -0.1373735420830612,
          null,
          0.047513966738466376,
          0.11152461274943747,
          null,
          0.047513966738466376,
          0.6564126208984516,
          null,
          0.047513966738466376,
          -0.3496228242214483,
          null,
          0.047513966738466376,
          -0.09762166801530757,
          null,
          0.047513966738466376,
          -0.3566673427091743,
          null,
          0.047513966738466376,
          0.5740827767137898,
          null,
          0.047513966738466376,
          -0.8822721069600864,
          null,
          0.047513966738466376,
          0.5082857137291441,
          null,
          0.047513966738466376,
          -0.19079464943498353,
          null,
          -0.3478957333746795,
          -0.9367830094476449,
          null,
          -0.3478957333746795,
          0.047513966738466376,
          null,
          -0.2837364284669173,
          -0.3566673427091743,
          null,
          -0.2837364284669173,
          0.03688277659452351,
          null,
          -0.2837364284669173,
          -0.3702782160273924,
          null,
          0.01676528526470329,
          0.7117693251493689,
          null,
          0.01676528526470329,
          0.03688277659452351,
          null,
          0.266329337244191,
          -0.18474902859071904,
          null,
          0.27270425699895573,
          -0.29104799418534827,
          null,
          0.27270425699895573,
          0.7117693251493689,
          null,
          -0.3566673427091743,
          0.047513966738466376,
          null,
          -0.3566673427091743,
          -0.6148902082872122,
          null,
          -0.3566673427091743,
          -0.2837364284669173,
          null,
          -0.3566673427091743,
          -0.12501771865813158,
          null,
          -0.3566673427091743,
          0.043040092182271145,
          null,
          -0.3566673427091743,
          0.03818688519794959,
          null,
          -0.3566673427091743,
          -0.5419274282105657,
          null,
          -0.3566673427091743,
          -0.29104799418534827,
          null,
          -0.3566673427091743,
          -0.5413050373798518,
          null,
          -0.3566673427091743,
          -0.7938959196326064,
          null,
          -0.09762166801530757,
          -0.3566673427091743,
          null,
          -0.09762166801530757,
          -0.30899934938992096,
          null,
          -0.09762166801530757,
          0.28821776302249724,
          null,
          -0.30899934938992096,
          0.047513966738466376,
          null,
          -0.30899934938992096,
          -0.9367830094476449,
          null,
          0.6286805201407789,
          0.047513966738466376,
          null
         ],
         "y": [
          -0.13314341289471526,
          -0.8273057088543443,
          null,
          -0.0437130182364526,
          0.2644859824522287,
          null,
          -0.0437130182364526,
          -0.8757441103564888,
          null,
          -0.0437130182364526,
          -0.4904132713768508,
          null,
          -0.4039435301141969,
          -0.4904132713768508,
          null,
          -0.08657049043916805,
          -0.00929633006481435,
          null,
          -0.08657049043916805,
          -0.8772002576984756,
          null,
          -0.08657049043916805,
          0.6534468333152352,
          null,
          -0.08657049043916805,
          -0.5456164038866659,
          null,
          -0.08657049043916805,
          -0.4904132713768508,
          null,
          -0.08657049043916805,
          0.34478172381022826,
          null,
          -0.08657049043916805,
          0.020554516798790935,
          null,
          -0.08657049043916805,
          0.4087182318234154,
          null,
          -0.08657049043916805,
          -0.1882791796538849,
          null,
          -0.08657049043916805,
          0.20271543363199088,
          null,
          -0.5226334548002917,
          -0.4904132713768508,
          null,
          -0.47638704692192807,
          -0.8860855888860025,
          null,
          -0.47638704692192807,
          0.2644859824522287,
          null,
          -0.47638704692192807,
          -0.4904132713768508,
          null,
          -0.47638704692192807,
          -0.6983634704817394,
          null,
          -0.47638704692192807,
          -0.19647585513087093,
          null,
          -0.47638704692192807,
          -0.8742396025088045,
          null,
          0.23447878437830885,
          -0.14113508064559507,
          null,
          0.23447878437830885,
          0.9257784112719847,
          null,
          0.23447878437830885,
          -0.4904132713768508,
          null,
          0.15185482924822075,
          0.5979281454396003,
          null,
          0.15185482924822075,
          -0.4904132713768508,
          null,
          -0.5358779281553853,
          -0.8103619162413931,
          null,
          -0.5358779281553853,
          -0.8772002576984756,
          null,
          -0.5358779281553853,
          -0.4904132713768508,
          null,
          -0.5358779281553853,
          -0.8837436802271716,
          null,
          0.1469516237477753,
          -0.40334955330204797,
          null,
          0.059329782275037865,
          -0.40334955330204797,
          null,
          0.059329782275037865,
          0.45593708681319084,
          null,
          0.059329782275037865,
          -0.4904132713768508,
          null,
          0.059329782275037865,
          0.7798030841572668,
          null,
          0.4087182318234154,
          0.04694238746672436,
          null,
          0.4087182318234154,
          0.20271543363199088,
          null,
          -0.1882791796538849,
          0.04694238746672436,
          null,
          -0.1882791796538849,
          -0.399012620133744,
          null,
          -0.1882791796538849,
          0.20271543363199088,
          null,
          -0.1882791796538849,
          -0.8772002576984756,
          null,
          0.020554516798790935,
          0.04694238746672436,
          null,
          0.020554516798790935,
          0.20271543363199088,
          null,
          0.34478172381022826,
          0.04694238746672436,
          null,
          0.34478172381022826,
          0.949696945428717,
          null,
          0.34478172381022826,
          -0.00929633006481435,
          null,
          0.34478172381022826,
          -0.18138615277660589,
          null,
          -0.8860855888860025,
          -0.22790662747848123,
          null,
          -0.14113508064559507,
          0.18914166064617866,
          null,
          -0.14113508064559507,
          0.23447878437830885,
          null,
          -0.14113508064559507,
          -0.4904132713768508,
          null,
          -0.14113508064559507,
          0.20271543363199088,
          null,
          -0.914457671852184,
          -0.8772002576984756,
          null,
          0.053120413641308255,
          -0.5358779281553853,
          null,
          0.053120413641308255,
          0.0021569972311897144,
          null,
          0.7798030841572668,
          0.20271543363199088,
          null,
          0.45593708681319084,
          0.04694238746672436,
          null,
          0.20271543363199088,
          0.4087182318234154,
          null,
          0.20271543363199088,
          -0.1882791796538849,
          null,
          0.20271543363199088,
          0.020554516798790935,
          null,
          0.20271543363199088,
          -0.14113508064559507,
          null,
          0.20271543363199088,
          -0.19647585513087093,
          null,
          0.20271543363199088,
          0.7798030841572668,
          null,
          0.2644859824522287,
          -0.47638704692192807,
          null,
          0.13204429522274808,
          -0.14113508064559507,
          null,
          -0.8772002576984756,
          -0.8103619162413931,
          null,
          -0.399012620133744,
          -0.1882791796538849,
          null,
          -0.399012620133744,
          -0.18138615277660589,
          null,
          -0.00929633006481435,
          -0.18138615277660589,
          null,
          -0.00929633006481435,
          -0.08657049043916805,
          null,
          -0.00929633006481435,
          0.34478172381022826,
          null,
          0.949696945428717,
          0.4711456151421813,
          null,
          -0.05983617466032976,
          0.13204429522274808,
          null,
          -0.8103619162413931,
          -0.5358779281553853,
          null,
          -0.18138615277660589,
          0.9316933078212273,
          null,
          -0.18138615277660589,
          -0.6983509955749341,
          null,
          -0.18138615277660589,
          -0.08657049043916805,
          null,
          -0.18138615277660589,
          0.4711456151421813,
          null,
          -0.18138615277660589,
          0.04694238746672436,
          null,
          -0.18138615277660589,
          -0.8051134378051136,
          null,
          -0.18138615277660589,
          0.0021569972311897144,
          null,
          -0.18138615277660589,
          -0.8240285580760794,
          null,
          -0.18138615277660589,
          -0.8772002576984756,
          null,
          -0.32400079349212463,
          0.004785302261318877,
          null,
          -0.32400079349212463,
          -0.18138615277660589,
          null,
          -0.19647585513087093,
          0.04694238746672436,
          null,
          -0.19647585513087093,
          -0.47638704692192807,
          null,
          -0.19647585513087093,
          0.20271543363199088,
          null,
          -0.22790662747848123,
          -0.6983634704817394,
          null,
          -0.22790662747848123,
          -0.47638704692192807,
          null,
          0.07758325732856504,
          0.059329782275037865,
          null,
          -0.8742396025088045,
          -0.8860855888860025,
          null,
          -0.8742396025088045,
          -0.6983634704817394,
          null,
          0.04694238746672436,
          -0.18138615277660589,
          null,
          0.04694238746672436,
          0.4087182318234154,
          null,
          0.04694238746672436,
          -0.19647585513087093,
          null,
          0.04694238746672436,
          -0.1882791796538849,
          null,
          0.04694238746672436,
          0.020554516798790935,
          null,
          0.04694238746672436,
          0.34478172381022826,
          null,
          0.04694238746672436,
          -0.14113508064559507,
          null,
          0.04694238746672436,
          -0.8860855888860025,
          null,
          0.04694238746672436,
          0.7798030841572668,
          null,
          0.04694238746672436,
          0.45593708681319084,
          null,
          0.4711456151421813,
          0.04694238746672436,
          null,
          0.4711456151421813,
          -0.005783338021522019,
          null,
          0.4711456151421813,
          0.949696945428717,
          null,
          -0.005783338021522019,
          -0.18138615277660589,
          null,
          -0.005783338021522019,
          0.004785302261318877,
          null,
          -0.21635707957549258,
          -0.18138615277660589,
          null
         ]
        },
        {
         "hoverinfo": "text",
         "marker": {
          "color": [
           0,
           1,
           3,
           1,
           10,
           1,
           6,
           3,
           2,
           4,
           1,
           4,
           0,
           2,
           4,
           2,
           4,
           1,
           4,
           1,
           2,
           1,
           1,
           6,
           1,
           1,
           0,
           1,
           0,
           0,
           2,
           3,
           0,
           1,
           1,
           0,
           0,
           1,
           0,
           0,
           9,
           0,
           2,
           3,
           2,
           1,
           2,
           0,
           0,
           0,
           0,
           10,
           0,
           3,
           2,
           0,
           0,
           0,
           1,
           0,
           0,
           0,
           0,
           0,
           0,
           0,
           0,
           0,
           0,
           0,
           0,
           0,
           0,
           0,
           0,
           0,
           0,
           0,
           0,
           0,
           0,
           0,
           0,
           0,
           0,
           0,
           0,
           0,
           0,
           0,
           0,
           0,
           0,
           0,
           0,
           0,
           0,
           0,
           0,
           0,
           0,
           0,
           0,
           0,
           0,
           0,
           0,
           0,
           0,
           0,
           0,
           0,
           0,
           0,
           0,
           0,
           0,
           0,
           0,
           0,
           0,
           0,
           0,
           0,
           0,
           0,
           0,
           0,
           0,
           0,
           0,
           0,
           0,
           0,
           0,
           0,
           0,
           0,
           0,
           0,
           0,
           0,
           0,
           0,
           0,
           0,
           0,
           0,
           0,
           0,
           0,
           0,
           0,
           0,
           0,
           0,
           0,
           0,
           0,
           0,
           0,
           0,
           0,
           0,
           0,
           0,
           0
          ],
          "colorbar": {
           "thickness": 15,
           "title": {
            "side": "right",
            "text": "Node Connections"
           },
           "xanchor": "left"
          },
          "colorscale": [
           [
            0,
            "rgb(255,255,217)"
           ],
           [
            0.125,
            "rgb(237,248,177)"
           ],
           [
            0.25,
            "rgb(199,233,180)"
           ],
           [
            0.375,
            "rgb(127,205,187)"
           ],
           [
            0.5,
            "rgb(65,182,196)"
           ],
           [
            0.625,
            "rgb(29,145,192)"
           ],
           [
            0.75,
            "rgb(34,94,168)"
           ],
           [
            0.875,
            "rgb(37,52,148)"
           ],
           [
            1,
            "rgb(8,29,88)"
           ]
          ],
          "line": {
           "width": 2
          },
          "reversescale": true,
          "showscale": true,
          "size": 10
         },
         "mode": "markers",
         "text": [
          "Cyber-SR\n          ",
          "BMG\n          ",
          "AA\n          ",
          "BMVI\n          ",
          "BMI\n          ",
          "BMJV\n          ",
          "BMVg\n          ",
          "BKAmt\n          ",
          "BMBF\n          ",
          "BMWi\n          ",
          "BMZ\n          ",
          "BMF\n          ",
          "DIIS\n          ",
          "Bpol\n          ",
          "BKA\n          ",
          "BfV\n          ",
          "BBK\n          ",
          "Bw\n          ",
          "BND\n          ",
          "BfDI\n          ",
          "BNetzA\n          ",
          "ZKA\n          ",
          "BaFin\n          ",
          "ZITiS\n          ",
          "BAKS\n          ",
          "UniBw\n          ",
          "SWP\n          ",
          "DsiN\n          ",
          "GIZ\n          ",
          "Telematikinfrastruktur\n          ",
          "G4C\n          ",
          "UP KRITIS\n          ",
          "Initiative Wirtschaftsschutz\n          ",
          "GMLZ\n          ",
          "CODE\n          ",
          "Kompetenz- & Forschungszentren für IT-Sicherheit\n          ",
          "IT-Sicherheitskatalog\n          ",
          "Initiative IT-Sicherheit i.d. Wirtschaft\n          ",
          "Trusted Cloud\n          ",
          "CERT-Verbund",
          "BSI\n          ",
          "VCV\n          ",
          "LSI\n          ",
          "BAMAD\n          ",
          "BAAINBw\n          ",
          "ITZ Bund\n          ",
          "BWI\n          ",
          "Cyber Security Cluster Bonn e.V.",
          "ITSMIG\n          ",
          "ENISA",
          "MIRT",
          "NCAZ",
          "AfCS",
          "LZ",
          "CERT-Bund",
          "CIH",
          "UN",
          "CCDCOE",
          "Bürger-Cert",
          "ZAC Baden-Württemberg\n\n",
          "ZAC Bayern\n",
          "ZAC Berlin\n",
          "CERT BWL",
          "Cyberwehr",
          "Zentralstelle für die Bekämpfung von Informations- und Kommunikationskriminalität - Baden-Württemberg",
          "CAZ",
          "BSI-Verbindungsbüro Region Süd",
          "Kompetenzzentrum Cybercrime",
          "ZCB",
          "BSI-Verbindungsbüro Region Berlin",
          "Spezialabteilug zur Bekämpfung von Internetkriminalität der Staatsanwaltschaft Berlin",
          "ZAC Brandenburg",
          "ZAC Bremen",
          "ZAC Hamburg",
          "ZAC Hessen",
          "ZAC Mecklenburg-Vorpommern",
          "ZAC Niedersachsen",
          "ZAC Nordrhein-Westfalen",
          "ZAC Rheinland-Pfalz",
          "ZAC Saarland",
          "ZAC Sachsen-Anhalt",
          "ZAC Sachsen",
          "ZAC Schleswig-Holstein",
          "ZAC Thüringen",
          "CERT Nord",
          "N CERT ",
          "CERT Saarland",
          "CERT M-V",
          "CERT NRW",
          "Bayern CERT",
          "CERT Berlin",
          "CERT Brandenburg",
          "SAX.CERT",
          "CERT-rlp",
          "CERT Hessen",
          "Thüringen CERT",
          "BSI-Verbindungsbüro Region Nord",
          "BSI-Verbindungsbüro Region Rhein-Main",
          "BSI-Standort Region West (Bonn)",
          "BSI-Zweitstandort Region Ost",
          "CCC",
          "Schwerpunktstaatsanwaltschaft zur Bekämpfung der Computer- und\nDatennetzkriminalität Cobus",
          "LKA 54",
          "H3C",
          "ZIT",
          "FITKO",
          "Dernat Cybercrime des Landeskriminalamtes Mecklenburg-Vorpommern",
          "Schwerpunktstaatsanwaltschaft für die\nBekämpfung der Informations-und Kommunikationskriminalität Rostock",
          "EMERGE IoT",
          "Netzverweis.de ",
          "ZAC NRW",
          "Cybercrime-Kompetenzzentrum",
          "Dezernat Cybercrime des Landeskriminalamtes Rheinland-Pfalz",
          "Dezernat LPP 222 Cybercrime",
          "Dezernat Cybercrime der Staatsanwaltschaft Saarbrücken",
          "SN4C",
          "ZCS",
          "4C",
          "Dezernat Cybercrime des Landeskriminalamtes Thüringen",
          "IT-Planungsrat",
          "Sicherheitskooperation Cybercrime",
          "Nationaler Pakt Cybersicherheit",
          "Cyberbündnis mit der Wirtschaft",
          "SprinD",
          "Cyberagentur",
          "IT-Rat",
          "EAD",
          "CMPD",
          "EUMS INT",
          "INTCEN",
          "EU Hybrid Fusion Cell",
          "PESCO",
          "Kooperationsgruppe unter der NIS-Richtlinie",
          "Horizon 2020",
          "SOG-IS",
          "SKI-Kontaktgruppe",
          "ECTEG",
          "cPPP",
          "EGC Group",
          "NIS Platform",
          "ER",
          "PSK",
          "EK",
          "GD CONNECT",
          "GD HOME",
          "GD DIGIT",
          "CERT-EU",
          "ERCC",
          "TGG",
          "Europäische Gruppe für die Cybersicherheitszertifzierung",
          "EUCTF",
          "EVA",
          "EC3",
          "Eurojust",
          "CEPOL",
          "eu-LISA",
          "ISG C3M",
          "ISG CHT",
          "MeliCERTes",
          "CSIRTs Netzwerk",
          "EJCN",
          "EJTN",
          "ENISA-Beratungsgruppe",
          "Gruppe der Interessenträger für die Cybersicherheitszertifzierung",
          "TF-CSIRT",
          "AfCS",
          "NATO"
         ],
         "type": "scatter",
         "x": [
          -0.746494736756015,
          -0.5472314216961123,
          0.009054874570695828,
          -0.8473358363409258,
          -0.3496228242214483,
          -0.09221028537571138,
          0.03688277659452351,
          -0.48927429066484424,
          -0.37824219715455354,
          -0.1373735420830612,
          0.28231595175076507,
          -0.18474902859071904,
          0.19628906106352037,
          -0.6148902082872122,
          -0.12501771865813158,
          0.043040092182271145,
          0.03818688519794959,
          -0.29104799418534827,
          -0.5419274282105657,
          0.1173681790673302,
          0.1203204972751963,
          -0.5413050373798518,
          -0.7938959196326064,
          -0.3702782160273924,
          0.3099182424370862,
          0.04441313695074178,
          -0.04551925532539118,
          -0.19079464943498353,
          0.8540642132086351,
          -0.4148273622990652,
          -0.06402181323978103,
          -0.047780761269282455,
          -0.9201938493813793,
          0.28821776302249724,
          0.4290471869293269,
          -0.6335521079112301,
          -0.8822721069600864,
          -0.5080090529266332,
          -0.24150895765083666,
          0.5082857137291441,
          0.047513966738466376,
          -0.9367830094476449,
          -0.3478957333746795,
          -0.2837364284669173,
          0.01676528526470329,
          0.266329337244191,
          0.27270425699895573,
          0.5740827767137898,
          -0.7550127536868623,
          -0.5857129710577172,
          0.11152461274943747,
          -0.3566673427091743,
          0.6564126208984516,
          -0.09762166801530757,
          -0.30899934938992096,
          0.7117693251493689,
          -0.5368270426930674,
          -0.6312041529385591,
          0.6286805201407789,
          0.7501550655915559,
          0.9189590625257659,
          0.6710157656984694,
          -0.7440960646466984,
          0.949494631480882,
          -0.9212516762233497,
          0.9505318598755104,
          -0.8809761928238978,
          0.5564863476207478,
          -0.8340319594580837,
          0.8175552497220478,
          -0.022179337373081066,
          -0.2623897678091189,
          0.16332476086144457,
          0.8689073458265115,
          0.3864787042235725,
          0.8382855602381201,
          0.8752006652966947,
          -0.5953056555854798,
          0.023504803304494268,
          0.13669523913175452,
          -0.5438360682004272,
          0.8528882090295484,
          -0.9212278199270507,
          -0.8029055369734074,
          0.6647716024129625,
          0.8378341657800817,
          0.7687623777441981,
          -0.09004697553659377,
          0.8896349246131301,
          -0.17175062450611897,
          -0.7988303903954309,
          -0.7926620520648066,
          -0.7145999315707636,
          0.9428767706347314,
          -0.9053193943865033,
          0.032237509029398814,
          -0.8915210083801396,
          0.9985803013470004,
          0.9112745064521715,
          -0.8537237540046414,
          -0.737265668501358,
          -0.3661452128759167,
          -0.8401589131268457,
          0.3915922661894,
          -0.8946102141039379,
          -0.3085270737705204,
          -0.8242467145047346,
          -0.9200874952639441,
          0.9058746310745254,
          -0.9227189147652832,
          0.32467809080655574,
          0.5780883402555671,
          -0.06803550936145476,
          0.7264714313148778,
          0.13416996362143893,
          0.9825067120191641,
          0.4178156839415917,
          0.23712494037230802,
          1,
          0.746713910946008,
          -0.7344678416856201,
          0.9442117836435192,
          -0.5219901625566008,
          0.85083420468524,
          -0.17114109842679864,
          0.9173912942996371,
          -0.2342495350350607,
          -0.40763100752111864,
          -0.8762886573937785,
          -0.8398022667053061,
          0.9762137879059853,
          0.9695021826125898,
          0.036807333982072976,
          -0.24240480881903329,
          -0.6585988172795025,
          -0.5409674129684111,
          -0.46746813380336494,
          -0.3525992974155009,
          0.05884160355776522,
          0.7386559946646917,
          -0.6191898515913219,
          0.3052583176726569,
          0.4831636617937514,
          0.43556902313769963,
          0.4793527808174612,
          0.9104210150964831,
          0.8248566492573514,
          -0.43740929944069173,
          -0.815945607064148,
          -0.7425461078447688,
          -0.0963012035747009,
          0.2504733448078831,
          0.21405575986550784,
          -0.7004631975247171,
          -0.3945335782753279,
          0.9242972437299617,
          0.6614947302064007,
          0.4939162422725775,
          -0.6246785087413996,
          0.6307587757923677,
          0.980753798655534,
          0.638841384189288,
          -0.13897827916752778,
          0.5734481774657334,
          0.80115946807964,
          -0.23256219930653135,
          0.4045466186719823
         ],
         "y": [
          -0.4904132713768508,
          -0.13314341289471526,
          -0.0437130182364526,
          -0.4039435301141969,
          -0.08657049043916805,
          -0.5226334548002917,
          -0.47638704692192807,
          0.23447878437830885,
          0.15185482924822075,
          -0.5358779281553853,
          0.1469516237477753,
          0.059329782275037865,
          -0.8757441103564888,
          0.4087182318234154,
          -0.1882791796538849,
          0.020554516798790935,
          0.34478172381022826,
          -0.8860855888860025,
          -0.14113508064559507,
          -0.914457671852184,
          0.053120413641308255,
          0.7798030841572668,
          0.45593708681319084,
          0.20271543363199088,
          0.2644859824522287,
          0.13204429522274808,
          0.9257784112719847,
          -0.8772002576984756,
          -0.40334955330204797,
          -0.8273057088543443,
          -0.399012620133744,
          -0.00929633006481435,
          0.18914166064617866,
          0.949696945428717,
          -0.05983617466032976,
          0.5979281454396003,
          0.0021569972311897144,
          -0.8103619162413931,
          -0.8837436802271716,
          -0.8240285580760794,
          -0.18138615277660589,
          0.004785302261318877,
          -0.32400079349212463,
          -0.19647585513087093,
          -0.22790662747848123,
          0.07758325732856504,
          -0.8742396025088045,
          -0.8051134378051136,
          -0.5456164038866659,
          -0.7002178919154092,
          0.9316933078212273,
          0.04694238746672436,
          -0.6983509955749341,
          0.4711456151421813,
          -0.005783338021522019,
          -0.6983634704817394,
          0.7395222995119906,
          -0.7197279584265883,
          -0.21635707957549258,
          0.6287936733863188,
          -0.3552212162911217,
          0.6693344838837326,
          -0.3789707087184108,
          -0.2853722537058031,
          -0.06377035926772807,
          0.29220474111458644,
          0.23552432090056954,
          -0.7024031765142001,
          0.4100166344559226,
          0.44689504932214436,
          -0.9335637435460539,
          -0.8278068216047572,
          0.8616485331696645,
          -0.1551420656361665,
          -0.7884573447775072,
          -0.48241203948698375,
          -0.28233108656303474,
          -0.5215420530782933,
          0.9617696056399049,
          0.9745938380012785,
          0.8370580767133897,
          -0.5374824908022073,
          0.07297885631766066,
          -0.44825929567279105,
          0.8221542821449622,
          0.5351441405302146,
          -0.6599193343985411,
          -0.9385339889562301,
          0.48182369587847906,
          0.9817030985372623,
          -0.1270118373185514,
          0.28223519288535004,
          -0.6597665289049581,
          0.3562499713410363,
          0.1317939528464721,
          0.9089311602673448,
          -0.2556396200432851,
          0.07374805825550915,
          -0.43711577014099384,
          -0.19202230213699054,
          0.6007537548506242,
          0.8993060189789484,
          0.5145378452125968,
          0.8979592388222508,
          -0.3249896777170754,
          0.8907164327470716,
          0.3503526995599226,
          -0.12295948043860316,
          -0.0507180666554173,
          -0.190187260711644,
          -0.8937831275614327,
          0.8294377636915904,
          -0.8537014632988653,
          0.5419760299936692,
          -0.8655381851334125,
          0.21315130768934665,
          -0.8510045228126367,
          -0.8929540826885873,
          -0.010717191457580239,
          0.7159641392998601,
          0.6648703774913174,
          0.008849617294929486,
          -0.7339881306948581,
          0.32365469650795137,
          -0.9256764079200716,
          0.12080083017081045,
          0.9401381641307639,
          -0.7163805858427018,
          0.30081812412046394,
          -0.3285625378126295,
          -0.17424953509301977,
          -0.10196600105597152,
          -0.8939493354037775,
          0.8741745413424635,
          0.7178129046659588,
          0.6703245655293805,
          -0.8319557514122385,
          -0.8375990373495612,
          -0.9368285388446557,
          -0.5796126015004324,
          0.7828592342147589,
          0.8469617343114754,
          -0.6956340174213413,
          -0.8837604254672256,
          0.852181206185458,
          0.41434432993502995,
          0.6022870406786883,
          0.9069381586067857,
          0.12682299037201958,
          0.4493729048282509,
          0.9566749992081026,
          0.9598651551000038,
          0.927557437524141,
          -0.5899382699817586,
          0.7819559577790395,
          0.23368497301786287,
          -0.4782438594220757,
          0.7676270998581923,
          -0.6260670346786407,
          0.7489518374732343,
          0.1431178166270961,
          -0.7688940753150294,
          0.8875373356829471,
          0.6585672017070753,
          -0.5879688837501136,
          0.6534468333152352,
          0.8345255340045583
         ]
        }
       ],
       "layout": {
        "annotations": [
         {
          "showarrow": false,
          "text": "v1: <a href='http://cyber.digitalwolff.de/'> @Digital.Wolff</a>",
          "x": 0.005,
          "xref": "paper",
          "y": -0.002,
          "yref": "paper"
         }
        ],
        "hovermode": "closest",
        "margin": {
         "b": 20,
         "l": 5,
         "r": 5,
         "t": 40
        },
        "showlegend": false,
        "template": {
         "data": {
          "bar": [
           {
            "error_x": {
             "color": "#2a3f5f"
            },
            "error_y": {
             "color": "#2a3f5f"
            },
            "marker": {
             "line": {
              "color": "#E5ECF6",
              "width": 0.5
             }
            },
            "type": "bar"
           }
          ],
          "barpolar": [
           {
            "marker": {
             "line": {
              "color": "#E5ECF6",
              "width": 0.5
             }
            },
            "type": "barpolar"
           }
          ],
          "carpet": [
           {
            "aaxis": {
             "endlinecolor": "#2a3f5f",
             "gridcolor": "white",
             "linecolor": "white",
             "minorgridcolor": "white",
             "startlinecolor": "#2a3f5f"
            },
            "baxis": {
             "endlinecolor": "#2a3f5f",
             "gridcolor": "white",
             "linecolor": "white",
             "minorgridcolor": "white",
             "startlinecolor": "#2a3f5f"
            },
            "type": "carpet"
           }
          ],
          "choropleth": [
           {
            "colorbar": {
             "outlinewidth": 0,
             "ticks": ""
            },
            "type": "choropleth"
           }
          ],
          "contour": [
           {
            "colorbar": {
             "outlinewidth": 0,
             "ticks": ""
            },
            "colorscale": [
             [
              0,
              "#0d0887"
             ],
             [
              0.1111111111111111,
              "#46039f"
             ],
             [
              0.2222222222222222,
              "#7201a8"
             ],
             [
              0.3333333333333333,
              "#9c179e"
             ],
             [
              0.4444444444444444,
              "#bd3786"
             ],
             [
              0.5555555555555556,
              "#d8576b"
             ],
             [
              0.6666666666666666,
              "#ed7953"
             ],
             [
              0.7777777777777778,
              "#fb9f3a"
             ],
             [
              0.8888888888888888,
              "#fdca26"
             ],
             [
              1,
              "#f0f921"
             ]
            ],
            "type": "contour"
           }
          ],
          "contourcarpet": [
           {
            "colorbar": {
             "outlinewidth": 0,
             "ticks": ""
            },
            "type": "contourcarpet"
           }
          ],
          "heatmap": [
           {
            "colorbar": {
             "outlinewidth": 0,
             "ticks": ""
            },
            "colorscale": [
             [
              0,
              "#0d0887"
             ],
             [
              0.1111111111111111,
              "#46039f"
             ],
             [
              0.2222222222222222,
              "#7201a8"
             ],
             [
              0.3333333333333333,
              "#9c179e"
             ],
             [
              0.4444444444444444,
              "#bd3786"
             ],
             [
              0.5555555555555556,
              "#d8576b"
             ],
             [
              0.6666666666666666,
              "#ed7953"
             ],
             [
              0.7777777777777778,
              "#fb9f3a"
             ],
             [
              0.8888888888888888,
              "#fdca26"
             ],
             [
              1,
              "#f0f921"
             ]
            ],
            "type": "heatmap"
           }
          ],
          "heatmapgl": [
           {
            "colorbar": {
             "outlinewidth": 0,
             "ticks": ""
            },
            "colorscale": [
             [
              0,
              "#0d0887"
             ],
             [
              0.1111111111111111,
              "#46039f"
             ],
             [
              0.2222222222222222,
              "#7201a8"
             ],
             [
              0.3333333333333333,
              "#9c179e"
             ],
             [
              0.4444444444444444,
              "#bd3786"
             ],
             [
              0.5555555555555556,
              "#d8576b"
             ],
             [
              0.6666666666666666,
              "#ed7953"
             ],
             [
              0.7777777777777778,
              "#fb9f3a"
             ],
             [
              0.8888888888888888,
              "#fdca26"
             ],
             [
              1,
              "#f0f921"
             ]
            ],
            "type": "heatmapgl"
           }
          ],
          "histogram": [
           {
            "marker": {
             "colorbar": {
              "outlinewidth": 0,
              "ticks": ""
             }
            },
            "type": "histogram"
           }
          ],
          "histogram2d": [
           {
            "colorbar": {
             "outlinewidth": 0,
             "ticks": ""
            },
            "colorscale": [
             [
              0,
              "#0d0887"
             ],
             [
              0.1111111111111111,
              "#46039f"
             ],
             [
              0.2222222222222222,
              "#7201a8"
             ],
             [
              0.3333333333333333,
              "#9c179e"
             ],
             [
              0.4444444444444444,
              "#bd3786"
             ],
             [
              0.5555555555555556,
              "#d8576b"
             ],
             [
              0.6666666666666666,
              "#ed7953"
             ],
             [
              0.7777777777777778,
              "#fb9f3a"
             ],
             [
              0.8888888888888888,
              "#fdca26"
             ],
             [
              1,
              "#f0f921"
             ]
            ],
            "type": "histogram2d"
           }
          ],
          "histogram2dcontour": [
           {
            "colorbar": {
             "outlinewidth": 0,
             "ticks": ""
            },
            "colorscale": [
             [
              0,
              "#0d0887"
             ],
             [
              0.1111111111111111,
              "#46039f"
             ],
             [
              0.2222222222222222,
              "#7201a8"
             ],
             [
              0.3333333333333333,
              "#9c179e"
             ],
             [
              0.4444444444444444,
              "#bd3786"
             ],
             [
              0.5555555555555556,
              "#d8576b"
             ],
             [
              0.6666666666666666,
              "#ed7953"
             ],
             [
              0.7777777777777778,
              "#fb9f3a"
             ],
             [
              0.8888888888888888,
              "#fdca26"
             ],
             [
              1,
              "#f0f921"
             ]
            ],
            "type": "histogram2dcontour"
           }
          ],
          "mesh3d": [
           {
            "colorbar": {
             "outlinewidth": 0,
             "ticks": ""
            },
            "type": "mesh3d"
           }
          ],
          "parcoords": [
           {
            "line": {
             "colorbar": {
              "outlinewidth": 0,
              "ticks": ""
             }
            },
            "type": "parcoords"
           }
          ],
          "pie": [
           {
            "automargin": true,
            "type": "pie"
           }
          ],
          "scatter": [
           {
            "marker": {
             "colorbar": {
              "outlinewidth": 0,
              "ticks": ""
             }
            },
            "type": "scatter"
           }
          ],
          "scatter3d": [
           {
            "line": {
             "colorbar": {
              "outlinewidth": 0,
              "ticks": ""
             }
            },
            "marker": {
             "colorbar": {
              "outlinewidth": 0,
              "ticks": ""
             }
            },
            "type": "scatter3d"
           }
          ],
          "scattercarpet": [
           {
            "marker": {
             "colorbar": {
              "outlinewidth": 0,
              "ticks": ""
             }
            },
            "type": "scattercarpet"
           }
          ],
          "scattergeo": [
           {
            "marker": {
             "colorbar": {
              "outlinewidth": 0,
              "ticks": ""
             }
            },
            "type": "scattergeo"
           }
          ],
          "scattergl": [
           {
            "marker": {
             "colorbar": {
              "outlinewidth": 0,
              "ticks": ""
             }
            },
            "type": "scattergl"
           }
          ],
          "scattermapbox": [
           {
            "marker": {
             "colorbar": {
              "outlinewidth": 0,
              "ticks": ""
             }
            },
            "type": "scattermapbox"
           }
          ],
          "scatterpolar": [
           {
            "marker": {
             "colorbar": {
              "outlinewidth": 0,
              "ticks": ""
             }
            },
            "type": "scatterpolar"
           }
          ],
          "scatterpolargl": [
           {
            "marker": {
             "colorbar": {
              "outlinewidth": 0,
              "ticks": ""
             }
            },
            "type": "scatterpolargl"
           }
          ],
          "scatterternary": [
           {
            "marker": {
             "colorbar": {
              "outlinewidth": 0,
              "ticks": ""
             }
            },
            "type": "scatterternary"
           }
          ],
          "surface": [
           {
            "colorbar": {
             "outlinewidth": 0,
             "ticks": ""
            },
            "colorscale": [
             [
              0,
              "#0d0887"
             ],
             [
              0.1111111111111111,
              "#46039f"
             ],
             [
              0.2222222222222222,
              "#7201a8"
             ],
             [
              0.3333333333333333,
              "#9c179e"
             ],
             [
              0.4444444444444444,
              "#bd3786"
             ],
             [
              0.5555555555555556,
              "#d8576b"
             ],
             [
              0.6666666666666666,
              "#ed7953"
             ],
             [
              0.7777777777777778,
              "#fb9f3a"
             ],
             [
              0.8888888888888888,
              "#fdca26"
             ],
             [
              1,
              "#f0f921"
             ]
            ],
            "type": "surface"
           }
          ],
          "table": [
           {
            "cells": {
             "fill": {
              "color": "#EBF0F8"
             },
             "line": {
              "color": "white"
             }
            },
            "header": {
             "fill": {
              "color": "#C8D4E3"
             },
             "line": {
              "color": "white"
             }
            },
            "type": "table"
           }
          ]
         },
         "layout": {
          "annotationdefaults": {
           "arrowcolor": "#2a3f5f",
           "arrowhead": 0,
           "arrowwidth": 1
          },
          "coloraxis": {
           "colorbar": {
            "outlinewidth": 0,
            "ticks": ""
           }
          },
          "colorscale": {
           "diverging": [
            [
             0,
             "#8e0152"
            ],
            [
             0.1,
             "#c51b7d"
            ],
            [
             0.2,
             "#de77ae"
            ],
            [
             0.3,
             "#f1b6da"
            ],
            [
             0.4,
             "#fde0ef"
            ],
            [
             0.5,
             "#f7f7f7"
            ],
            [
             0.6,
             "#e6f5d0"
            ],
            [
             0.7,
             "#b8e186"
            ],
            [
             0.8,
             "#7fbc41"
            ],
            [
             0.9,
             "#4d9221"
            ],
            [
             1,
             "#276419"
            ]
           ],
           "sequential": [
            [
             0,
             "#0d0887"
            ],
            [
             0.1111111111111111,
             "#46039f"
            ],
            [
             0.2222222222222222,
             "#7201a8"
            ],
            [
             0.3333333333333333,
             "#9c179e"
            ],
            [
             0.4444444444444444,
             "#bd3786"
            ],
            [
             0.5555555555555556,
             "#d8576b"
            ],
            [
             0.6666666666666666,
             "#ed7953"
            ],
            [
             0.7777777777777778,
             "#fb9f3a"
            ],
            [
             0.8888888888888888,
             "#fdca26"
            ],
            [
             1,
             "#f0f921"
            ]
           ],
           "sequentialminus": [
            [
             0,
             "#0d0887"
            ],
            [
             0.1111111111111111,
             "#46039f"
            ],
            [
             0.2222222222222222,
             "#7201a8"
            ],
            [
             0.3333333333333333,
             "#9c179e"
            ],
            [
             0.4444444444444444,
             "#bd3786"
            ],
            [
             0.5555555555555556,
             "#d8576b"
            ],
            [
             0.6666666666666666,
             "#ed7953"
            ],
            [
             0.7777777777777778,
             "#fb9f3a"
            ],
            [
             0.8888888888888888,
             "#fdca26"
            ],
            [
             1,
             "#f0f921"
            ]
           ]
          },
          "colorway": [
           "#636efa",
           "#EF553B",
           "#00cc96",
           "#ab63fa",
           "#FFA15A",
           "#19d3f3",
           "#FF6692",
           "#B6E880",
           "#FF97FF",
           "#FECB52"
          ],
          "font": {
           "color": "#2a3f5f"
          },
          "geo": {
           "bgcolor": "white",
           "lakecolor": "white",
           "landcolor": "#E5ECF6",
           "showlakes": true,
           "showland": true,
           "subunitcolor": "white"
          },
          "hoverlabel": {
           "align": "left"
          },
          "hovermode": "closest",
          "mapbox": {
           "style": "light"
          },
          "paper_bgcolor": "white",
          "plot_bgcolor": "#E5ECF6",
          "polar": {
           "angularaxis": {
            "gridcolor": "white",
            "linecolor": "white",
            "ticks": ""
           },
           "bgcolor": "#E5ECF6",
           "radialaxis": {
            "gridcolor": "white",
            "linecolor": "white",
            "ticks": ""
           }
          },
          "scene": {
           "xaxis": {
            "backgroundcolor": "#E5ECF6",
            "gridcolor": "white",
            "gridwidth": 2,
            "linecolor": "white",
            "showbackground": true,
            "ticks": "",
            "zerolinecolor": "white"
           },
           "yaxis": {
            "backgroundcolor": "#E5ECF6",
            "gridcolor": "white",
            "gridwidth": 2,
            "linecolor": "white",
            "showbackground": true,
            "ticks": "",
            "zerolinecolor": "white"
           },
           "zaxis": {
            "backgroundcolor": "#E5ECF6",
            "gridcolor": "white",
            "gridwidth": 2,
            "linecolor": "white",
            "showbackground": true,
            "ticks": "",
            "zerolinecolor": "white"
           }
          },
          "shapedefaults": {
           "line": {
            "color": "#2a3f5f"
           }
          },
          "ternary": {
           "aaxis": {
            "gridcolor": "white",
            "linecolor": "white",
            "ticks": ""
           },
           "baxis": {
            "gridcolor": "white",
            "linecolor": "white",
            "ticks": ""
           },
           "bgcolor": "#E5ECF6",
           "caxis": {
            "gridcolor": "white",
            "linecolor": "white",
            "ticks": ""
           }
          },
          "title": {
           "x": 0.05
          },
          "xaxis": {
           "automargin": true,
           "gridcolor": "white",
           "linecolor": "white",
           "ticks": "",
           "title": {
            "standoff": 15
           },
           "zerolinecolor": "white",
           "zerolinewidth": 2
          },
          "yaxis": {
           "automargin": true,
           "gridcolor": "white",
           "linecolor": "white",
           "ticks": "",
           "title": {
            "standoff": 15
           },
           "zerolinecolor": "white",
           "zerolinewidth": 2
          }
         }
        },
        "title": {
         "font": {
          "size": 16
         },
         "text": "<br>Staatliche Cybersicherheitsarchitektur"
        },
        "xaxis": {
         "showgrid": false,
         "showticklabels": false,
         "zeroline": false
        },
        "yaxis": {
         "showgrid": false,
         "showticklabels": false,
         "zeroline": false
        }
       }
      },
      "text/html": [
       "<div>\n",
       "        \n",
       "        \n",
       "            <div id=\"18c6ad22-47b6-4cbf-b398-4e0c2df76ac3\" class=\"plotly-graph-div\" style=\"height:525px; width:100%;\"></div>\n",
       "            <script type=\"text/javascript\">\n",
       "                require([\"plotly\"], function(Plotly) {\n",
       "                    window.PLOTLYENV=window.PLOTLYENV || {};\n",
       "                    \n",
       "                if (document.getElementById(\"18c6ad22-47b6-4cbf-b398-4e0c2df76ac3\")) {\n",
       "                    Plotly.newPlot(\n",
       "                        '18c6ad22-47b6-4cbf-b398-4e0c2df76ac3',\n",
       "                        [{\"hoverinfo\": \"text\", \"line\": {\"color\": \"#888\", \"width\": 0.5}, \"mode\": \"lines\", \"text\": \"test\", \"type\": \"scatter\", \"x\": [-0.5472314216961123, -0.4148273622990652, null, 0.009054874570695828, 0.3099182424370862, null, 0.009054874570695828, 0.19628906106352037, null, 0.009054874570695828, -0.746494736756015, null, -0.8473358363409258, -0.746494736756015, null, -0.3496228242214483, -0.047780761269282455, null, -0.3496228242214483, -0.19079464943498353, null, -0.3496228242214483, -0.23256219930653135, null, -0.3496228242214483, -0.7550127536868623, null, -0.3496228242214483, -0.746494736756015, null, -0.3496228242214483, 0.03818688519794959, null, -0.3496228242214483, 0.043040092182271145, null, -0.3496228242214483, -0.6148902082872122, null, -0.3496228242214483, -0.12501771865813158, null, -0.3496228242214483, -0.3702782160273924, null, -0.09221028537571138, -0.746494736756015, null, 0.03688277659452351, -0.29104799418534827, null, 0.03688277659452351, 0.3099182424370862, null, 0.03688277659452351, -0.746494736756015, null, 0.03688277659452351, 0.7117693251493689, null, 0.03688277659452351, -0.2837364284669173, null, 0.03688277659452351, 0.27270425699895573, null, -0.48927429066484424, -0.5419274282105657, null, -0.48927429066484424, -0.04551925532539118, null, -0.48927429066484424, -0.746494736756015, null, -0.37824219715455354, -0.6335521079112301, null, -0.37824219715455354, -0.746494736756015, null, -0.1373735420830612, -0.5080090529266332, null, -0.1373735420830612, -0.19079464943498353, null, -0.1373735420830612, -0.746494736756015, null, -0.1373735420830612, -0.24150895765083666, null, 0.28231595175076507, 0.8540642132086351, null, -0.18474902859071904, 0.8540642132086351, null, -0.18474902859071904, -0.7938959196326064, null, -0.18474902859071904, -0.746494736756015, null, -0.18474902859071904, -0.5413050373798518, null, -0.6148902082872122, -0.3566673427091743, null, -0.6148902082872122, -0.3702782160273924, null, -0.12501771865813158, -0.3566673427091743, null, -0.12501771865813158, -0.06402181323978103, null, -0.12501771865813158, -0.3702782160273924, null, -0.12501771865813158, -0.19079464943498353, null, 0.043040092182271145, -0.3566673427091743, null, 0.043040092182271145, -0.3702782160273924, null, 0.03818688519794959, -0.3566673427091743, null, 0.03818688519794959, 0.28821776302249724, null, 0.03818688519794959, -0.047780761269282455, null, 0.03818688519794959, 0.047513966738466376, null, -0.29104799418534827, 0.01676528526470329, null, -0.5419274282105657, -0.9201938493813793, null, -0.5419274282105657, -0.48927429066484424, null, -0.5419274282105657, -0.746494736756015, null, -0.5419274282105657, -0.3702782160273924, null, 0.1173681790673302, -0.19079464943498353, null, 0.1203204972751963, -0.1373735420830612, null, 0.1203204972751963, -0.8822721069600864, null, -0.5413050373798518, -0.3702782160273924, null, -0.7938959196326064, -0.3566673427091743, null, -0.3702782160273924, -0.6148902082872122, null, -0.3702782160273924, -0.12501771865813158, null, -0.3702782160273924, 0.043040092182271145, null, -0.3702782160273924, -0.5419274282105657, null, -0.3702782160273924, -0.2837364284669173, null, -0.3702782160273924, -0.5413050373798518, null, 0.3099182424370862, 0.03688277659452351, null, 0.04441313695074178, -0.5419274282105657, null, -0.19079464943498353, -0.5080090529266332, null, -0.06402181323978103, -0.12501771865813158, null, -0.06402181323978103, 0.047513966738466376, null, -0.047780761269282455, 0.047513966738466376, null, -0.047780761269282455, -0.3496228242214483, null, -0.047780761269282455, 0.03818688519794959, null, 0.28821776302249724, -0.09762166801530757, null, 0.4290471869293269, 0.04441313695074178, null, -0.5080090529266332, -0.1373735420830612, null, 0.047513966738466376, 0.11152461274943747, null, 0.047513966738466376, 0.6564126208984516, null, 0.047513966738466376, -0.3496228242214483, null, 0.047513966738466376, -0.09762166801530757, null, 0.047513966738466376, -0.3566673427091743, null, 0.047513966738466376, 0.5740827767137898, null, 0.047513966738466376, -0.8822721069600864, null, 0.047513966738466376, 0.5082857137291441, null, 0.047513966738466376, -0.19079464943498353, null, -0.3478957333746795, -0.9367830094476449, null, -0.3478957333746795, 0.047513966738466376, null, -0.2837364284669173, -0.3566673427091743, null, -0.2837364284669173, 0.03688277659452351, null, -0.2837364284669173, -0.3702782160273924, null, 0.01676528526470329, 0.7117693251493689, null, 0.01676528526470329, 0.03688277659452351, null, 0.266329337244191, -0.18474902859071904, null, 0.27270425699895573, -0.29104799418534827, null, 0.27270425699895573, 0.7117693251493689, null, -0.3566673427091743, 0.047513966738466376, null, -0.3566673427091743, -0.6148902082872122, null, -0.3566673427091743, -0.2837364284669173, null, -0.3566673427091743, -0.12501771865813158, null, -0.3566673427091743, 0.043040092182271145, null, -0.3566673427091743, 0.03818688519794959, null, -0.3566673427091743, -0.5419274282105657, null, -0.3566673427091743, -0.29104799418534827, null, -0.3566673427091743, -0.5413050373798518, null, -0.3566673427091743, -0.7938959196326064, null, -0.09762166801530757, -0.3566673427091743, null, -0.09762166801530757, -0.30899934938992096, null, -0.09762166801530757, 0.28821776302249724, null, -0.30899934938992096, 0.047513966738466376, null, -0.30899934938992096, -0.9367830094476449, null, 0.6286805201407789, 0.047513966738466376, null], \"y\": [-0.13314341289471526, -0.8273057088543443, null, -0.0437130182364526, 0.2644859824522287, null, -0.0437130182364526, -0.8757441103564888, null, -0.0437130182364526, -0.4904132713768508, null, -0.4039435301141969, -0.4904132713768508, null, -0.08657049043916805, -0.00929633006481435, null, -0.08657049043916805, -0.8772002576984756, null, -0.08657049043916805, 0.6534468333152352, null, -0.08657049043916805, -0.5456164038866659, null, -0.08657049043916805, -0.4904132713768508, null, -0.08657049043916805, 0.34478172381022826, null, -0.08657049043916805, 0.020554516798790935, null, -0.08657049043916805, 0.4087182318234154, null, -0.08657049043916805, -0.1882791796538849, null, -0.08657049043916805, 0.20271543363199088, null, -0.5226334548002917, -0.4904132713768508, null, -0.47638704692192807, -0.8860855888860025, null, -0.47638704692192807, 0.2644859824522287, null, -0.47638704692192807, -0.4904132713768508, null, -0.47638704692192807, -0.6983634704817394, null, -0.47638704692192807, -0.19647585513087093, null, -0.47638704692192807, -0.8742396025088045, null, 0.23447878437830885, -0.14113508064559507, null, 0.23447878437830885, 0.9257784112719847, null, 0.23447878437830885, -0.4904132713768508, null, 0.15185482924822075, 0.5979281454396003, null, 0.15185482924822075, -0.4904132713768508, null, -0.5358779281553853, -0.8103619162413931, null, -0.5358779281553853, -0.8772002576984756, null, -0.5358779281553853, -0.4904132713768508, null, -0.5358779281553853, -0.8837436802271716, null, 0.1469516237477753, -0.40334955330204797, null, 0.059329782275037865, -0.40334955330204797, null, 0.059329782275037865, 0.45593708681319084, null, 0.059329782275037865, -0.4904132713768508, null, 0.059329782275037865, 0.7798030841572668, null, 0.4087182318234154, 0.04694238746672436, null, 0.4087182318234154, 0.20271543363199088, null, -0.1882791796538849, 0.04694238746672436, null, -0.1882791796538849, -0.399012620133744, null, -0.1882791796538849, 0.20271543363199088, null, -0.1882791796538849, -0.8772002576984756, null, 0.020554516798790935, 0.04694238746672436, null, 0.020554516798790935, 0.20271543363199088, null, 0.34478172381022826, 0.04694238746672436, null, 0.34478172381022826, 0.949696945428717, null, 0.34478172381022826, -0.00929633006481435, null, 0.34478172381022826, -0.18138615277660589, null, -0.8860855888860025, -0.22790662747848123, null, -0.14113508064559507, 0.18914166064617866, null, -0.14113508064559507, 0.23447878437830885, null, -0.14113508064559507, -0.4904132713768508, null, -0.14113508064559507, 0.20271543363199088, null, -0.914457671852184, -0.8772002576984756, null, 0.053120413641308255, -0.5358779281553853, null, 0.053120413641308255, 0.0021569972311897144, null, 0.7798030841572668, 0.20271543363199088, null, 0.45593708681319084, 0.04694238746672436, null, 0.20271543363199088, 0.4087182318234154, null, 0.20271543363199088, -0.1882791796538849, null, 0.20271543363199088, 0.020554516798790935, null, 0.20271543363199088, -0.14113508064559507, null, 0.20271543363199088, -0.19647585513087093, null, 0.20271543363199088, 0.7798030841572668, null, 0.2644859824522287, -0.47638704692192807, null, 0.13204429522274808, -0.14113508064559507, null, -0.8772002576984756, -0.8103619162413931, null, -0.399012620133744, -0.1882791796538849, null, -0.399012620133744, -0.18138615277660589, null, -0.00929633006481435, -0.18138615277660589, null, -0.00929633006481435, -0.08657049043916805, null, -0.00929633006481435, 0.34478172381022826, null, 0.949696945428717, 0.4711456151421813, null, -0.05983617466032976, 0.13204429522274808, null, -0.8103619162413931, -0.5358779281553853, null, -0.18138615277660589, 0.9316933078212273, null, -0.18138615277660589, -0.6983509955749341, null, -0.18138615277660589, -0.08657049043916805, null, -0.18138615277660589, 0.4711456151421813, null, -0.18138615277660589, 0.04694238746672436, null, -0.18138615277660589, -0.8051134378051136, null, -0.18138615277660589, 0.0021569972311897144, null, -0.18138615277660589, -0.8240285580760794, null, -0.18138615277660589, -0.8772002576984756, null, -0.32400079349212463, 0.004785302261318877, null, -0.32400079349212463, -0.18138615277660589, null, -0.19647585513087093, 0.04694238746672436, null, -0.19647585513087093, -0.47638704692192807, null, -0.19647585513087093, 0.20271543363199088, null, -0.22790662747848123, -0.6983634704817394, null, -0.22790662747848123, -0.47638704692192807, null, 0.07758325732856504, 0.059329782275037865, null, -0.8742396025088045, -0.8860855888860025, null, -0.8742396025088045, -0.6983634704817394, null, 0.04694238746672436, -0.18138615277660589, null, 0.04694238746672436, 0.4087182318234154, null, 0.04694238746672436, -0.19647585513087093, null, 0.04694238746672436, -0.1882791796538849, null, 0.04694238746672436, 0.020554516798790935, null, 0.04694238746672436, 0.34478172381022826, null, 0.04694238746672436, -0.14113508064559507, null, 0.04694238746672436, -0.8860855888860025, null, 0.04694238746672436, 0.7798030841572668, null, 0.04694238746672436, 0.45593708681319084, null, 0.4711456151421813, 0.04694238746672436, null, 0.4711456151421813, -0.005783338021522019, null, 0.4711456151421813, 0.949696945428717, null, -0.005783338021522019, -0.18138615277660589, null, -0.005783338021522019, 0.004785302261318877, null, -0.21635707957549258, -0.18138615277660589, null]}, {\"hoverinfo\": \"text\", \"marker\": {\"color\": [0, 1, 3, 1, 10, 1, 6, 3, 2, 4, 1, 4, 0, 2, 4, 2, 4, 1, 4, 1, 2, 1, 1, 6, 1, 1, 0, 1, 0, 0, 2, 3, 0, 1, 1, 0, 0, 1, 0, 0, 9, 0, 2, 3, 2, 1, 2, 0, 0, 0, 0, 10, 0, 3, 2, 0, 0, 0, 1, 0, 0, 0, 0, 0, 0, 0, 0, 0, 0, 0, 0, 0, 0, 0, 0, 0, 0, 0, 0, 0, 0, 0, 0, 0, 0, 0, 0, 0, 0, 0, 0, 0, 0, 0, 0, 0, 0, 0, 0, 0, 0, 0, 0, 0, 0, 0, 0, 0, 0, 0, 0, 0, 0, 0, 0, 0, 0, 0, 0, 0, 0, 0, 0, 0, 0, 0, 0, 0, 0, 0, 0, 0, 0, 0, 0, 0, 0, 0, 0, 0, 0, 0, 0, 0, 0, 0, 0, 0, 0, 0, 0, 0, 0, 0, 0, 0, 0, 0, 0, 0, 0, 0, 0, 0, 0, 0, 0], \"colorbar\": {\"thickness\": 15, \"title\": {\"side\": \"right\", \"text\": \"Node Connections\"}, \"xanchor\": \"left\"}, \"colorscale\": [[0.0, \"rgb(255,255,217)\"], [0.125, \"rgb(237,248,177)\"], [0.25, \"rgb(199,233,180)\"], [0.375, \"rgb(127,205,187)\"], [0.5, \"rgb(65,182,196)\"], [0.625, \"rgb(29,145,192)\"], [0.75, \"rgb(34,94,168)\"], [0.875, \"rgb(37,52,148)\"], [1.0, \"rgb(8,29,88)\"]], \"line\": {\"width\": 2}, \"reversescale\": true, \"showscale\": true, \"size\": 10}, \"mode\": \"markers\", \"text\": [\"Cyber-SR\\n          \", \"BMG\\n          \", \"AA\\n          \", \"BMVI\\n          \", \"BMI\\n          \", \"BMJV\\n          \", \"BMVg\\n          \", \"BKAmt\\n          \", \"BMBF\\n          \", \"BMWi\\n          \", \"BMZ\\n          \", \"BMF\\n          \", \"DIIS\\n          \", \"Bpol\\n          \", \"BKA\\n          \", \"BfV\\n          \", \"BBK\\n          \", \"Bw\\n          \", \"BND\\n          \", \"BfDI\\n          \", \"BNetzA\\n          \", \"ZKA\\n          \", \"BaFin\\n          \", \"ZITiS\\n          \", \"BAKS\\n          \", \"UniBw\\n          \", \"SWP\\n          \", \"DsiN\\n          \", \"GIZ\\n          \", \"Telematikinfrastruktur\\n          \", \"G4C\\n          \", \"UP KRITIS\\n          \", \"Initiative Wirtschaftsschutz\\n          \", \"GMLZ\\n          \", \"CODE\\n          \", \"Kompetenz- & Forschungszentren f\\u00fcr IT-Sicherheit\\n          \", \"IT-Sicherheitskatalog\\n          \", \"Initiative IT-Sicherheit i.d. Wirtschaft\\n          \", \"Trusted Cloud\\n          \", \"CERT-Verbund\", \"BSI\\n          \", \"VCV\\n          \", \"LSI\\n          \", \"BAMAD\\n          \", \"BAAINBw\\n          \", \"ITZ Bund\\n          \", \"BWI\\n          \", \"Cyber Security Cluster Bonn e.V.\", \"ITSMIG\\n          \", \"ENISA\", \"MIRT\", \"NCAZ\", \"AfCS\", \"LZ\", \"CERT-Bund\", \"CIH\", \"UN\", \"CCDCOE\", \"B\\u00fcrger-Cert\", \"ZAC Baden-W\\u00fcrttemberg\\n\\n\", \"ZAC Bayern\\n\", \"ZAC Berlin\\n\", \"CERT BWL\", \"Cyberwehr\", \"Zentralstelle f\\u00fcr die Bek\\u00e4mpfung von Informations- und Kommunikationskriminalit\\u00e4t - Baden-W\\u00fcrttemberg\", \"CAZ\", \"BSI-Verbindungsb\\u00fcro Region S\\u00fcd\", \"Kompetenzzentrum Cybercrime\", \"ZCB\", \"BSI-Verbindungsb\\u00fcro Region Berlin\", \"Spezialabteilug zur Bek\\u00e4mpfung von Internetkriminalit\\u00e4t der Staatsanwaltschaft Berlin\", \"ZAC Brandenburg\", \"ZAC Bremen\", \"ZAC Hamburg\", \"ZAC Hessen\", \"ZAC Mecklenburg-Vorpommern\", \"ZAC Niedersachsen\", \"ZAC Nordrhein-Westfalen\", \"ZAC Rheinland-Pfalz\", \"ZAC Saarland\", \"ZAC Sachsen-Anhalt\", \"ZAC Sachsen\", \"ZAC Schleswig-Holstein\", \"ZAC Th\\u00fcringen\", \"CERT Nord\", \"N CERT \", \"CERT Saarland\", \"CERT M-V\", \"CERT NRW\", \"Bayern CERT\", \"CERT Berlin\", \"CERT Brandenburg\", \"SAX.CERT\", \"CERT-rlp\", \"CERT Hessen\", \"Th\\u00fcringen CERT\", \"BSI-Verbindungsb\\u00fcro Region Nord\", \"BSI-Verbindungsb\\u00fcro Region Rhein-Main\", \"BSI-Standort Region West (Bonn)\", \"BSI-Zweitstandort Region Ost\", \"CCC\", \"Schwerpunktstaatsanwaltschaft zur Bek\\u00e4mpfung der Computer- und\\nDatennetzkriminalit\\u00e4t Cobus\", \"LKA 54\", \"H3C\", \"ZIT\", \"FITKO\", \"Dernat Cybercrime des Landeskriminalamtes Mecklenburg-Vorpommern\", \"Schwerpunktstaatsanwaltschaft f\\u00fcr die\\nBek\\u00e4mpfung der Informations-und Kommunikationskriminalit\\u00e4t Rostock\", \"EMERGE IoT\", \"Netzverweis.de \", \"ZAC NRW\", \"Cybercrime-Kompetenzzentrum\", \"Dezernat Cybercrime des Landeskriminalamtes Rheinland-Pfalz\", \"Dezernat LPP 222 Cybercrime\", \"Dezernat Cybercrime der Staatsanwaltschaft Saarbr\\u00fccken\", \"SN4C\", \"ZCS\", \"4C\", \"Dezernat Cybercrime des Landeskriminalamtes Th\\u00fcringen\", \"IT-Planungsrat\", \"Sicherheitskooperation Cybercrime\", \"Nationaler Pakt Cybersicherheit\", \"Cyberb\\u00fcndnis mit der Wirtschaft\", \"SprinD\", \"Cyberagentur\", \"IT-Rat\", \"EAD\", \"CMPD\", \"EUMS INT\", \"INTCEN\", \"EU Hybrid Fusion Cell\", \"PESCO\", \"Kooperationsgruppe unter der NIS-Richtlinie\", \"Horizon 2020\", \"SOG-IS\", \"SKI-Kontaktgruppe\", \"ECTEG\", \"cPPP\", \"EGC Group\", \"NIS Platform\", \"ER\", \"PSK\", \"EK\", \"GD CONNECT\", \"GD HOME\", \"GD DIGIT\", \"CERT-EU\", \"ERCC\", \"TGG\", \"Europ\\u00e4ische Gruppe f\\u00fcr die Cybersicherheitszertifzierung\", \"EUCTF\", \"EVA\", \"EC3\", \"Eurojust\", \"CEPOL\", \"eu-LISA\", \"ISG C3M\", \"ISG CHT\", \"MeliCERTes\", \"CSIRTs Netzwerk\", \"EJCN\", \"EJTN\", \"ENISA-Beratungsgruppe\", \"Gruppe der Interessentr\\u00e4ger f\\u00fcr die Cybersicherheitszertifzierung\", \"TF-CSIRT\", \"AfCS\", \"NATO\"], \"type\": \"scatter\", \"x\": [-0.746494736756015, -0.5472314216961123, 0.009054874570695828, -0.8473358363409258, -0.3496228242214483, -0.09221028537571138, 0.03688277659452351, -0.48927429066484424, -0.37824219715455354, -0.1373735420830612, 0.28231595175076507, -0.18474902859071904, 0.19628906106352037, -0.6148902082872122, -0.12501771865813158, 0.043040092182271145, 0.03818688519794959, -0.29104799418534827, -0.5419274282105657, 0.1173681790673302, 0.1203204972751963, -0.5413050373798518, -0.7938959196326064, -0.3702782160273924, 0.3099182424370862, 0.04441313695074178, -0.04551925532539118, -0.19079464943498353, 0.8540642132086351, -0.4148273622990652, -0.06402181323978103, -0.047780761269282455, -0.9201938493813793, 0.28821776302249724, 0.4290471869293269, -0.6335521079112301, -0.8822721069600864, -0.5080090529266332, -0.24150895765083666, 0.5082857137291441, 0.047513966738466376, -0.9367830094476449, -0.3478957333746795, -0.2837364284669173, 0.01676528526470329, 0.266329337244191, 0.27270425699895573, 0.5740827767137898, -0.7550127536868623, -0.5857129710577172, 0.11152461274943747, -0.3566673427091743, 0.6564126208984516, -0.09762166801530757, -0.30899934938992096, 0.7117693251493689, -0.5368270426930674, -0.6312041529385591, 0.6286805201407789, 0.7501550655915559, 0.9189590625257659, 0.6710157656984694, -0.7440960646466984, 0.949494631480882, -0.9212516762233497, 0.9505318598755104, -0.8809761928238978, 0.5564863476207478, -0.8340319594580837, 0.8175552497220478, -0.022179337373081066, -0.2623897678091189, 0.16332476086144457, 0.8689073458265115, 0.3864787042235725, 0.8382855602381201, 0.8752006652966947, -0.5953056555854798, 0.023504803304494268, 0.13669523913175452, -0.5438360682004272, 0.8528882090295484, -0.9212278199270507, -0.8029055369734074, 0.6647716024129625, 0.8378341657800817, 0.7687623777441981, -0.09004697553659377, 0.8896349246131301, -0.17175062450611897, -0.7988303903954309, -0.7926620520648066, -0.7145999315707636, 0.9428767706347314, -0.9053193943865033, 0.032237509029398814, -0.8915210083801396, 0.9985803013470004, 0.9112745064521715, -0.8537237540046414, -0.737265668501358, -0.3661452128759167, -0.8401589131268457, 0.3915922661894, -0.8946102141039379, -0.3085270737705204, -0.8242467145047346, -0.9200874952639441, 0.9058746310745254, -0.9227189147652832, 0.32467809080655574, 0.5780883402555671, -0.06803550936145476, 0.7264714313148778, 0.13416996362143893, 0.9825067120191641, 0.4178156839415917, 0.23712494037230802, 1.0, 0.746713910946008, -0.7344678416856201, 0.9442117836435192, -0.5219901625566008, 0.85083420468524, -0.17114109842679864, 0.9173912942996371, -0.2342495350350607, -0.40763100752111864, -0.8762886573937785, -0.8398022667053061, 0.9762137879059853, 0.9695021826125898, 0.036807333982072976, -0.24240480881903329, -0.6585988172795025, -0.5409674129684111, -0.46746813380336494, -0.3525992974155009, 0.05884160355776522, 0.7386559946646917, -0.6191898515913219, 0.3052583176726569, 0.4831636617937514, 0.43556902313769963, 0.4793527808174612, 0.9104210150964831, 0.8248566492573514, -0.43740929944069173, -0.815945607064148, -0.7425461078447688, -0.0963012035747009, 0.2504733448078831, 0.21405575986550784, -0.7004631975247171, -0.3945335782753279, 0.9242972437299617, 0.6614947302064007, 0.4939162422725775, -0.6246785087413996, 0.6307587757923677, 0.980753798655534, 0.638841384189288, -0.13897827916752778, 0.5734481774657334, 0.80115946807964, -0.23256219930653135, 0.4045466186719823], \"y\": [-0.4904132713768508, -0.13314341289471526, -0.0437130182364526, -0.4039435301141969, -0.08657049043916805, -0.5226334548002917, -0.47638704692192807, 0.23447878437830885, 0.15185482924822075, -0.5358779281553853, 0.1469516237477753, 0.059329782275037865, -0.8757441103564888, 0.4087182318234154, -0.1882791796538849, 0.020554516798790935, 0.34478172381022826, -0.8860855888860025, -0.14113508064559507, -0.914457671852184, 0.053120413641308255, 0.7798030841572668, 0.45593708681319084, 0.20271543363199088, 0.2644859824522287, 0.13204429522274808, 0.9257784112719847, -0.8772002576984756, -0.40334955330204797, -0.8273057088543443, -0.399012620133744, -0.00929633006481435, 0.18914166064617866, 0.949696945428717, -0.05983617466032976, 0.5979281454396003, 0.0021569972311897144, -0.8103619162413931, -0.8837436802271716, -0.8240285580760794, -0.18138615277660589, 0.004785302261318877, -0.32400079349212463, -0.19647585513087093, -0.22790662747848123, 0.07758325732856504, -0.8742396025088045, -0.8051134378051136, -0.5456164038866659, -0.7002178919154092, 0.9316933078212273, 0.04694238746672436, -0.6983509955749341, 0.4711456151421813, -0.005783338021522019, -0.6983634704817394, 0.7395222995119906, -0.7197279584265883, -0.21635707957549258, 0.6287936733863188, -0.3552212162911217, 0.6693344838837326, -0.3789707087184108, -0.2853722537058031, -0.06377035926772807, 0.29220474111458644, 0.23552432090056954, -0.7024031765142001, 0.4100166344559226, 0.44689504932214436, -0.9335637435460539, -0.8278068216047572, 0.8616485331696645, -0.1551420656361665, -0.7884573447775072, -0.48241203948698375, -0.28233108656303474, -0.5215420530782933, 0.9617696056399049, 0.9745938380012785, 0.8370580767133897, -0.5374824908022073, 0.07297885631766066, -0.44825929567279105, 0.8221542821449622, 0.5351441405302146, -0.6599193343985411, -0.9385339889562301, 0.48182369587847906, 0.9817030985372623, -0.1270118373185514, 0.28223519288535004, -0.6597665289049581, 0.3562499713410363, 0.1317939528464721, 0.9089311602673448, -0.2556396200432851, 0.07374805825550915, -0.43711577014099384, -0.19202230213699054, 0.6007537548506242, 0.8993060189789484, 0.5145378452125968, 0.8979592388222508, -0.3249896777170754, 0.8907164327470716, 0.3503526995599226, -0.12295948043860316, -0.0507180666554173, -0.190187260711644, -0.8937831275614327, 0.8294377636915904, -0.8537014632988653, 0.5419760299936692, -0.8655381851334125, 0.21315130768934665, -0.8510045228126367, -0.8929540826885873, -0.010717191457580239, 0.7159641392998601, 0.6648703774913174, 0.008849617294929486, -0.7339881306948581, 0.32365469650795137, -0.9256764079200716, 0.12080083017081045, 0.9401381641307639, -0.7163805858427018, 0.30081812412046394, -0.3285625378126295, -0.17424953509301977, -0.10196600105597152, -0.8939493354037775, 0.8741745413424635, 0.7178129046659588, 0.6703245655293805, -0.8319557514122385, -0.8375990373495612, -0.9368285388446557, -0.5796126015004324, 0.7828592342147589, 0.8469617343114754, -0.6956340174213413, -0.8837604254672256, 0.852181206185458, 0.41434432993502995, 0.6022870406786883, 0.9069381586067857, 0.12682299037201958, 0.4493729048282509, 0.9566749992081026, 0.9598651551000038, 0.927557437524141, -0.5899382699817586, 0.7819559577790395, 0.23368497301786287, -0.4782438594220757, 0.7676270998581923, -0.6260670346786407, 0.7489518374732343, 0.1431178166270961, -0.7688940753150294, 0.8875373356829471, 0.6585672017070753, -0.5879688837501136, 0.6534468333152352, 0.8345255340045583]}],\n",
       "                        {\"annotations\": [{\"showarrow\": false, \"text\": \"v1: <a href='http://cyber.digitalwolff.de/'> @Digital.Wolff</a>\", \"x\": 0.005, \"xref\": \"paper\", \"y\": -0.002, \"yref\": \"paper\"}], \"hovermode\": \"closest\", \"margin\": {\"b\": 20, \"l\": 5, \"r\": 5, \"t\": 40}, \"showlegend\": false, \"template\": {\"data\": {\"bar\": [{\"error_x\": {\"color\": \"#2a3f5f\"}, \"error_y\": {\"color\": \"#2a3f5f\"}, \"marker\": {\"line\": {\"color\": \"#E5ECF6\", \"width\": 0.5}}, \"type\": \"bar\"}], \"barpolar\": [{\"marker\": {\"line\": {\"color\": \"#E5ECF6\", \"width\": 0.5}}, \"type\": \"barpolar\"}], \"carpet\": [{\"aaxis\": {\"endlinecolor\": \"#2a3f5f\", \"gridcolor\": \"white\", \"linecolor\": \"white\", \"minorgridcolor\": \"white\", \"startlinecolor\": \"#2a3f5f\"}, \"baxis\": {\"endlinecolor\": \"#2a3f5f\", \"gridcolor\": \"white\", \"linecolor\": \"white\", \"minorgridcolor\": \"white\", \"startlinecolor\": \"#2a3f5f\"}, \"type\": \"carpet\"}], \"choropleth\": [{\"colorbar\": {\"outlinewidth\": 0, \"ticks\": \"\"}, \"type\": \"choropleth\"}], \"contour\": [{\"colorbar\": {\"outlinewidth\": 0, \"ticks\": \"\"}, \"colorscale\": [[0.0, \"#0d0887\"], [0.1111111111111111, \"#46039f\"], [0.2222222222222222, \"#7201a8\"], [0.3333333333333333, \"#9c179e\"], [0.4444444444444444, \"#bd3786\"], [0.5555555555555556, \"#d8576b\"], [0.6666666666666666, \"#ed7953\"], [0.7777777777777778, \"#fb9f3a\"], [0.8888888888888888, \"#fdca26\"], [1.0, \"#f0f921\"]], \"type\": \"contour\"}], \"contourcarpet\": [{\"colorbar\": {\"outlinewidth\": 0, \"ticks\": \"\"}, \"type\": \"contourcarpet\"}], \"heatmap\": [{\"colorbar\": {\"outlinewidth\": 0, \"ticks\": \"\"}, \"colorscale\": [[0.0, \"#0d0887\"], [0.1111111111111111, \"#46039f\"], [0.2222222222222222, \"#7201a8\"], [0.3333333333333333, \"#9c179e\"], [0.4444444444444444, \"#bd3786\"], [0.5555555555555556, \"#d8576b\"], [0.6666666666666666, \"#ed7953\"], [0.7777777777777778, \"#fb9f3a\"], [0.8888888888888888, \"#fdca26\"], [1.0, \"#f0f921\"]], \"type\": \"heatmap\"}], \"heatmapgl\": [{\"colorbar\": {\"outlinewidth\": 0, \"ticks\": \"\"}, \"colorscale\": [[0.0, \"#0d0887\"], [0.1111111111111111, \"#46039f\"], [0.2222222222222222, \"#7201a8\"], [0.3333333333333333, \"#9c179e\"], [0.4444444444444444, \"#bd3786\"], [0.5555555555555556, \"#d8576b\"], [0.6666666666666666, \"#ed7953\"], [0.7777777777777778, \"#fb9f3a\"], [0.8888888888888888, \"#fdca26\"], [1.0, \"#f0f921\"]], \"type\": \"heatmapgl\"}], \"histogram\": [{\"marker\": {\"colorbar\": {\"outlinewidth\": 0, \"ticks\": \"\"}}, \"type\": \"histogram\"}], \"histogram2d\": [{\"colorbar\": {\"outlinewidth\": 0, \"ticks\": \"\"}, \"colorscale\": [[0.0, \"#0d0887\"], [0.1111111111111111, \"#46039f\"], [0.2222222222222222, \"#7201a8\"], [0.3333333333333333, \"#9c179e\"], [0.4444444444444444, \"#bd3786\"], [0.5555555555555556, \"#d8576b\"], [0.6666666666666666, \"#ed7953\"], [0.7777777777777778, \"#fb9f3a\"], [0.8888888888888888, \"#fdca26\"], [1.0, \"#f0f921\"]], \"type\": \"histogram2d\"}], \"histogram2dcontour\": [{\"colorbar\": {\"outlinewidth\": 0, \"ticks\": \"\"}, \"colorscale\": [[0.0, \"#0d0887\"], [0.1111111111111111, \"#46039f\"], [0.2222222222222222, \"#7201a8\"], [0.3333333333333333, \"#9c179e\"], [0.4444444444444444, \"#bd3786\"], [0.5555555555555556, \"#d8576b\"], [0.6666666666666666, \"#ed7953\"], [0.7777777777777778, \"#fb9f3a\"], [0.8888888888888888, \"#fdca26\"], [1.0, \"#f0f921\"]], \"type\": \"histogram2dcontour\"}], \"mesh3d\": [{\"colorbar\": {\"outlinewidth\": 0, \"ticks\": \"\"}, \"type\": \"mesh3d\"}], \"parcoords\": [{\"line\": {\"colorbar\": {\"outlinewidth\": 0, \"ticks\": \"\"}}, \"type\": \"parcoords\"}], \"pie\": [{\"automargin\": true, \"type\": \"pie\"}], \"scatter\": [{\"marker\": {\"colorbar\": {\"outlinewidth\": 0, \"ticks\": \"\"}}, \"type\": \"scatter\"}], \"scatter3d\": [{\"line\": {\"colorbar\": {\"outlinewidth\": 0, \"ticks\": \"\"}}, \"marker\": {\"colorbar\": {\"outlinewidth\": 0, \"ticks\": \"\"}}, \"type\": \"scatter3d\"}], \"scattercarpet\": [{\"marker\": {\"colorbar\": {\"outlinewidth\": 0, \"ticks\": \"\"}}, \"type\": \"scattercarpet\"}], \"scattergeo\": [{\"marker\": {\"colorbar\": {\"outlinewidth\": 0, \"ticks\": \"\"}}, \"type\": \"scattergeo\"}], \"scattergl\": [{\"marker\": {\"colorbar\": {\"outlinewidth\": 0, \"ticks\": \"\"}}, \"type\": \"scattergl\"}], \"scattermapbox\": [{\"marker\": {\"colorbar\": {\"outlinewidth\": 0, \"ticks\": \"\"}}, \"type\": \"scattermapbox\"}], \"scatterpolar\": [{\"marker\": {\"colorbar\": {\"outlinewidth\": 0, \"ticks\": \"\"}}, \"type\": \"scatterpolar\"}], \"scatterpolargl\": [{\"marker\": {\"colorbar\": {\"outlinewidth\": 0, \"ticks\": \"\"}}, \"type\": \"scatterpolargl\"}], \"scatterternary\": [{\"marker\": {\"colorbar\": {\"outlinewidth\": 0, \"ticks\": \"\"}}, \"type\": \"scatterternary\"}], \"surface\": [{\"colorbar\": {\"outlinewidth\": 0, \"ticks\": \"\"}, \"colorscale\": [[0.0, \"#0d0887\"], [0.1111111111111111, \"#46039f\"], [0.2222222222222222, \"#7201a8\"], [0.3333333333333333, \"#9c179e\"], [0.4444444444444444, \"#bd3786\"], [0.5555555555555556, \"#d8576b\"], [0.6666666666666666, \"#ed7953\"], [0.7777777777777778, \"#fb9f3a\"], [0.8888888888888888, \"#fdca26\"], [1.0, \"#f0f921\"]], \"type\": \"surface\"}], \"table\": [{\"cells\": {\"fill\": {\"color\": \"#EBF0F8\"}, \"line\": {\"color\": \"white\"}}, \"header\": {\"fill\": {\"color\": \"#C8D4E3\"}, \"line\": {\"color\": \"white\"}}, \"type\": \"table\"}]}, \"layout\": {\"annotationdefaults\": {\"arrowcolor\": \"#2a3f5f\", \"arrowhead\": 0, \"arrowwidth\": 1}, \"coloraxis\": {\"colorbar\": {\"outlinewidth\": 0, \"ticks\": \"\"}}, \"colorscale\": {\"diverging\": [[0, \"#8e0152\"], [0.1, \"#c51b7d\"], [0.2, \"#de77ae\"], [0.3, \"#f1b6da\"], [0.4, \"#fde0ef\"], [0.5, \"#f7f7f7\"], [0.6, \"#e6f5d0\"], [0.7, \"#b8e186\"], [0.8, \"#7fbc41\"], [0.9, \"#4d9221\"], [1, \"#276419\"]], \"sequential\": [[0.0, \"#0d0887\"], [0.1111111111111111, \"#46039f\"], [0.2222222222222222, \"#7201a8\"], [0.3333333333333333, \"#9c179e\"], [0.4444444444444444, \"#bd3786\"], [0.5555555555555556, \"#d8576b\"], [0.6666666666666666, \"#ed7953\"], [0.7777777777777778, \"#fb9f3a\"], [0.8888888888888888, \"#fdca26\"], [1.0, \"#f0f921\"]], \"sequentialminus\": [[0.0, \"#0d0887\"], [0.1111111111111111, \"#46039f\"], [0.2222222222222222, \"#7201a8\"], [0.3333333333333333, \"#9c179e\"], [0.4444444444444444, \"#bd3786\"], [0.5555555555555556, \"#d8576b\"], [0.6666666666666666, \"#ed7953\"], [0.7777777777777778, \"#fb9f3a\"], [0.8888888888888888, \"#fdca26\"], [1.0, \"#f0f921\"]]}, \"colorway\": [\"#636efa\", \"#EF553B\", \"#00cc96\", \"#ab63fa\", \"#FFA15A\", \"#19d3f3\", \"#FF6692\", \"#B6E880\", \"#FF97FF\", \"#FECB52\"], \"font\": {\"color\": \"#2a3f5f\"}, \"geo\": {\"bgcolor\": \"white\", \"lakecolor\": \"white\", \"landcolor\": \"#E5ECF6\", \"showlakes\": true, \"showland\": true, \"subunitcolor\": \"white\"}, \"hoverlabel\": {\"align\": \"left\"}, \"hovermode\": \"closest\", \"mapbox\": {\"style\": \"light\"}, \"paper_bgcolor\": \"white\", \"plot_bgcolor\": \"#E5ECF6\", \"polar\": {\"angularaxis\": {\"gridcolor\": \"white\", \"linecolor\": \"white\", \"ticks\": \"\"}, \"bgcolor\": \"#E5ECF6\", \"radialaxis\": {\"gridcolor\": \"white\", \"linecolor\": \"white\", \"ticks\": \"\"}}, \"scene\": {\"xaxis\": {\"backgroundcolor\": \"#E5ECF6\", \"gridcolor\": \"white\", \"gridwidth\": 2, \"linecolor\": \"white\", \"showbackground\": true, \"ticks\": \"\", \"zerolinecolor\": \"white\"}, \"yaxis\": {\"backgroundcolor\": \"#E5ECF6\", \"gridcolor\": \"white\", \"gridwidth\": 2, \"linecolor\": \"white\", \"showbackground\": true, \"ticks\": \"\", \"zerolinecolor\": \"white\"}, \"zaxis\": {\"backgroundcolor\": \"#E5ECF6\", \"gridcolor\": \"white\", \"gridwidth\": 2, \"linecolor\": \"white\", \"showbackground\": true, \"ticks\": \"\", \"zerolinecolor\": \"white\"}}, \"shapedefaults\": {\"line\": {\"color\": \"#2a3f5f\"}}, \"ternary\": {\"aaxis\": {\"gridcolor\": \"white\", \"linecolor\": \"white\", \"ticks\": \"\"}, \"baxis\": {\"gridcolor\": \"white\", \"linecolor\": \"white\", \"ticks\": \"\"}, \"bgcolor\": \"#E5ECF6\", \"caxis\": {\"gridcolor\": \"white\", \"linecolor\": \"white\", \"ticks\": \"\"}}, \"title\": {\"x\": 0.05}, \"xaxis\": {\"automargin\": true, \"gridcolor\": \"white\", \"linecolor\": \"white\", \"ticks\": \"\", \"title\": {\"standoff\": 15}, \"zerolinecolor\": \"white\", \"zerolinewidth\": 2}, \"yaxis\": {\"automargin\": true, \"gridcolor\": \"white\", \"linecolor\": \"white\", \"ticks\": \"\", \"title\": {\"standoff\": 15}, \"zerolinecolor\": \"white\", \"zerolinewidth\": 2}}}, \"title\": {\"font\": {\"size\": 16}, \"text\": \"<br>Staatliche Cybersicherheitsarchitektur\"}, \"xaxis\": {\"showgrid\": false, \"showticklabels\": false, \"zeroline\": false}, \"yaxis\": {\"showgrid\": false, \"showticklabels\": false, \"zeroline\": false}},\n",
       "                        {\"responsive\": true}\n",
       "                    ).then(function(){\n",
       "                            \n",
       "var gd = document.getElementById('18c6ad22-47b6-4cbf-b398-4e0c2df76ac3');\n",
       "var x = new MutationObserver(function (mutations, observer) {{\n",
       "        var display = window.getComputedStyle(gd).display;\n",
       "        if (!display || display === 'none') {{\n",
       "            console.log([gd, 'removed!']);\n",
       "            Plotly.purge(gd);\n",
       "            observer.disconnect();\n",
       "        }}\n",
       "}});\n",
       "\n",
       "// Listen for the removal of the full notebook cells\n",
       "var notebookContainer = gd.closest('#notebook-container');\n",
       "if (notebookContainer) {{\n",
       "    x.observe(notebookContainer, {childList: true});\n",
       "}}\n",
       "\n",
       "// Listen for the clearing of the current output cell\n",
       "var outputEl = gd.closest('.output');\n",
       "if (outputEl) {{\n",
       "    x.observe(outputEl, {childList: true});\n",
       "}}\n",
       "\n",
       "                        })\n",
       "                };\n",
       "                });\n",
       "            </script>\n",
       "        </div>"
      ]
     },
     "metadata": {},
     "output_type": "display_data"
    }
   ],
   "source": [
    "#Create Network Graph\n",
    "fig = go.Figure(data=[edge_trace, node_trace],\n",
    "             layout=go.Layout(\n",
    "                title='<br>Staatliche Cybersicherheitsarchitektur',\n",
    "                titlefont_size=16,\n",
    "                showlegend=False,\n",
    "                hovermode='closest',\n",
    "                margin=dict(b=20,l=5,r=5,t=40),\n",
    "                annotations=[ dict(\n",
    "                    text=\"v1: <a href='http://cyber.digitalwolff.de/'> @Digital.Wolff</a>\",\n",
    "                    showarrow=False,\n",
    "                    xref=\"paper\", yref=\"paper\",\n",
    "                    x=0.005, y=-0.002 ) ],\n",
    "                xaxis=dict(showgrid=False, zeroline=False, showticklabels=False),\n",
    "                yaxis=dict(showgrid=False, zeroline=False, showticklabels=False))\n",
    "                )\n",
    "fig.show()"
   ]
  },
  {
   "cell_type": "code",
   "execution_count": 38,
   "metadata": {},
   "outputs": [
    {
     "data": {
      "application/vnd.plotly.v1+json": {
       "config": {
        "plotlyServerURL": "https://plot.ly"
       },
       "data": [
        {
         "name": "z",
         "type": "scatter3d",
         "x": [
          "2017-01-01",
          "2017-02-10",
          "2017-03-20"
         ],
         "y": [
          "A",
          "B",
          "C"
         ],
         "z": [
          1,
          1000,
          100000
         ]
        }
       ],
       "layout": {
        "scene": {
         "annotations": [
          {
           "opacity": 0.7,
           "showarrow": false,
           "text": "Point 1",
           "x": "2017-01-01",
           "xanchor": "left",
           "xshift": 10,
           "y": "A",
           "z": 0
          },
          {
           "arrowcolor": "black",
           "arrowhead": 1,
           "arrowsize": 3,
           "arrowwidth": 1,
           "ax": 0,
           "ay": -75,
           "font": {
            "color": "black",
            "size": 12
           },
           "text": "Point 2",
           "textangle": 0,
           "x": "2017-02-10",
           "y": "B",
           "z": 4
          },
          {
           "arrowhead": 1,
           "ax": 50,
           "ay": 0,
           "text": "Point 3",
           "x": "2017-03-20",
           "xanchor": "left",
           "y": "C",
           "yanchor": "bottom",
           "z": 5
          }
         ],
         "aspectratio": {
          "x": 1,
          "y": 1,
          "z": 1
         },
         "camera": {
          "center": {
           "x": 0,
           "y": 0,
           "z": 0
          },
          "eye": {
           "x": 1.96903462608,
           "y": -1.09022831971,
           "z": 0.405345349304
          },
          "up": {
           "x": 0,
           "y": 0,
           "z": 1
          }
         },
         "dragmode": "turntable",
         "xaxis": {
          "title": {
           "text": ""
          },
          "type": "date"
         },
         "yaxis": {
          "title": {
           "text": ""
          },
          "type": "category"
         },
         "zaxis": {
          "title": {
           "text": ""
          },
          "type": "log"
         }
        },
        "template": {
         "data": {
          "bar": [
           {
            "error_x": {
             "color": "#2a3f5f"
            },
            "error_y": {
             "color": "#2a3f5f"
            },
            "marker": {
             "line": {
              "color": "#E5ECF6",
              "width": 0.5
             }
            },
            "type": "bar"
           }
          ],
          "barpolar": [
           {
            "marker": {
             "line": {
              "color": "#E5ECF6",
              "width": 0.5
             }
            },
            "type": "barpolar"
           }
          ],
          "carpet": [
           {
            "aaxis": {
             "endlinecolor": "#2a3f5f",
             "gridcolor": "white",
             "linecolor": "white",
             "minorgridcolor": "white",
             "startlinecolor": "#2a3f5f"
            },
            "baxis": {
             "endlinecolor": "#2a3f5f",
             "gridcolor": "white",
             "linecolor": "white",
             "minorgridcolor": "white",
             "startlinecolor": "#2a3f5f"
            },
            "type": "carpet"
           }
          ],
          "choropleth": [
           {
            "colorbar": {
             "outlinewidth": 0,
             "ticks": ""
            },
            "type": "choropleth"
           }
          ],
          "contour": [
           {
            "colorbar": {
             "outlinewidth": 0,
             "ticks": ""
            },
            "colorscale": [
             [
              0,
              "#0d0887"
             ],
             [
              0.1111111111111111,
              "#46039f"
             ],
             [
              0.2222222222222222,
              "#7201a8"
             ],
             [
              0.3333333333333333,
              "#9c179e"
             ],
             [
              0.4444444444444444,
              "#bd3786"
             ],
             [
              0.5555555555555556,
              "#d8576b"
             ],
             [
              0.6666666666666666,
              "#ed7953"
             ],
             [
              0.7777777777777778,
              "#fb9f3a"
             ],
             [
              0.8888888888888888,
              "#fdca26"
             ],
             [
              1,
              "#f0f921"
             ]
            ],
            "type": "contour"
           }
          ],
          "contourcarpet": [
           {
            "colorbar": {
             "outlinewidth": 0,
             "ticks": ""
            },
            "type": "contourcarpet"
           }
          ],
          "heatmap": [
           {
            "colorbar": {
             "outlinewidth": 0,
             "ticks": ""
            },
            "colorscale": [
             [
              0,
              "#0d0887"
             ],
             [
              0.1111111111111111,
              "#46039f"
             ],
             [
              0.2222222222222222,
              "#7201a8"
             ],
             [
              0.3333333333333333,
              "#9c179e"
             ],
             [
              0.4444444444444444,
              "#bd3786"
             ],
             [
              0.5555555555555556,
              "#d8576b"
             ],
             [
              0.6666666666666666,
              "#ed7953"
             ],
             [
              0.7777777777777778,
              "#fb9f3a"
             ],
             [
              0.8888888888888888,
              "#fdca26"
             ],
             [
              1,
              "#f0f921"
             ]
            ],
            "type": "heatmap"
           }
          ],
          "heatmapgl": [
           {
            "colorbar": {
             "outlinewidth": 0,
             "ticks": ""
            },
            "colorscale": [
             [
              0,
              "#0d0887"
             ],
             [
              0.1111111111111111,
              "#46039f"
             ],
             [
              0.2222222222222222,
              "#7201a8"
             ],
             [
              0.3333333333333333,
              "#9c179e"
             ],
             [
              0.4444444444444444,
              "#bd3786"
             ],
             [
              0.5555555555555556,
              "#d8576b"
             ],
             [
              0.6666666666666666,
              "#ed7953"
             ],
             [
              0.7777777777777778,
              "#fb9f3a"
             ],
             [
              0.8888888888888888,
              "#fdca26"
             ],
             [
              1,
              "#f0f921"
             ]
            ],
            "type": "heatmapgl"
           }
          ],
          "histogram": [
           {
            "marker": {
             "colorbar": {
              "outlinewidth": 0,
              "ticks": ""
             }
            },
            "type": "histogram"
           }
          ],
          "histogram2d": [
           {
            "colorbar": {
             "outlinewidth": 0,
             "ticks": ""
            },
            "colorscale": [
             [
              0,
              "#0d0887"
             ],
             [
              0.1111111111111111,
              "#46039f"
             ],
             [
              0.2222222222222222,
              "#7201a8"
             ],
             [
              0.3333333333333333,
              "#9c179e"
             ],
             [
              0.4444444444444444,
              "#bd3786"
             ],
             [
              0.5555555555555556,
              "#d8576b"
             ],
             [
              0.6666666666666666,
              "#ed7953"
             ],
             [
              0.7777777777777778,
              "#fb9f3a"
             ],
             [
              0.8888888888888888,
              "#fdca26"
             ],
             [
              1,
              "#f0f921"
             ]
            ],
            "type": "histogram2d"
           }
          ],
          "histogram2dcontour": [
           {
            "colorbar": {
             "outlinewidth": 0,
             "ticks": ""
            },
            "colorscale": [
             [
              0,
              "#0d0887"
             ],
             [
              0.1111111111111111,
              "#46039f"
             ],
             [
              0.2222222222222222,
              "#7201a8"
             ],
             [
              0.3333333333333333,
              "#9c179e"
             ],
             [
              0.4444444444444444,
              "#bd3786"
             ],
             [
              0.5555555555555556,
              "#d8576b"
             ],
             [
              0.6666666666666666,
              "#ed7953"
             ],
             [
              0.7777777777777778,
              "#fb9f3a"
             ],
             [
              0.8888888888888888,
              "#fdca26"
             ],
             [
              1,
              "#f0f921"
             ]
            ],
            "type": "histogram2dcontour"
           }
          ],
          "mesh3d": [
           {
            "colorbar": {
             "outlinewidth": 0,
             "ticks": ""
            },
            "type": "mesh3d"
           }
          ],
          "parcoords": [
           {
            "line": {
             "colorbar": {
              "outlinewidth": 0,
              "ticks": ""
             }
            },
            "type": "parcoords"
           }
          ],
          "pie": [
           {
            "automargin": true,
            "type": "pie"
           }
          ],
          "scatter": [
           {
            "marker": {
             "colorbar": {
              "outlinewidth": 0,
              "ticks": ""
             }
            },
            "type": "scatter"
           }
          ],
          "scatter3d": [
           {
            "line": {
             "colorbar": {
              "outlinewidth": 0,
              "ticks": ""
             }
            },
            "marker": {
             "colorbar": {
              "outlinewidth": 0,
              "ticks": ""
             }
            },
            "type": "scatter3d"
           }
          ],
          "scattercarpet": [
           {
            "marker": {
             "colorbar": {
              "outlinewidth": 0,
              "ticks": ""
             }
            },
            "type": "scattercarpet"
           }
          ],
          "scattergeo": [
           {
            "marker": {
             "colorbar": {
              "outlinewidth": 0,
              "ticks": ""
             }
            },
            "type": "scattergeo"
           }
          ],
          "scattergl": [
           {
            "marker": {
             "colorbar": {
              "outlinewidth": 0,
              "ticks": ""
             }
            },
            "type": "scattergl"
           }
          ],
          "scattermapbox": [
           {
            "marker": {
             "colorbar": {
              "outlinewidth": 0,
              "ticks": ""
             }
            },
            "type": "scattermapbox"
           }
          ],
          "scatterpolar": [
           {
            "marker": {
             "colorbar": {
              "outlinewidth": 0,
              "ticks": ""
             }
            },
            "type": "scatterpolar"
           }
          ],
          "scatterpolargl": [
           {
            "marker": {
             "colorbar": {
              "outlinewidth": 0,
              "ticks": ""
             }
            },
            "type": "scatterpolargl"
           }
          ],
          "scatterternary": [
           {
            "marker": {
             "colorbar": {
              "outlinewidth": 0,
              "ticks": ""
             }
            },
            "type": "scatterternary"
           }
          ],
          "surface": [
           {
            "colorbar": {
             "outlinewidth": 0,
             "ticks": ""
            },
            "colorscale": [
             [
              0,
              "#0d0887"
             ],
             [
              0.1111111111111111,
              "#46039f"
             ],
             [
              0.2222222222222222,
              "#7201a8"
             ],
             [
              0.3333333333333333,
              "#9c179e"
             ],
             [
              0.4444444444444444,
              "#bd3786"
             ],
             [
              0.5555555555555556,
              "#d8576b"
             ],
             [
              0.6666666666666666,
              "#ed7953"
             ],
             [
              0.7777777777777778,
              "#fb9f3a"
             ],
             [
              0.8888888888888888,
              "#fdca26"
             ],
             [
              1,
              "#f0f921"
             ]
            ],
            "type": "surface"
           }
          ],
          "table": [
           {
            "cells": {
             "fill": {
              "color": "#EBF0F8"
             },
             "line": {
              "color": "white"
             }
            },
            "header": {
             "fill": {
              "color": "#C8D4E3"
             },
             "line": {
              "color": "white"
             }
            },
            "type": "table"
           }
          ]
         },
         "layout": {
          "annotationdefaults": {
           "arrowcolor": "#2a3f5f",
           "arrowhead": 0,
           "arrowwidth": 1
          },
          "coloraxis": {
           "colorbar": {
            "outlinewidth": 0,
            "ticks": ""
           }
          },
          "colorscale": {
           "diverging": [
            [
             0,
             "#8e0152"
            ],
            [
             0.1,
             "#c51b7d"
            ],
            [
             0.2,
             "#de77ae"
            ],
            [
             0.3,
             "#f1b6da"
            ],
            [
             0.4,
             "#fde0ef"
            ],
            [
             0.5,
             "#f7f7f7"
            ],
            [
             0.6,
             "#e6f5d0"
            ],
            [
             0.7,
             "#b8e186"
            ],
            [
             0.8,
             "#7fbc41"
            ],
            [
             0.9,
             "#4d9221"
            ],
            [
             1,
             "#276419"
            ]
           ],
           "sequential": [
            [
             0,
             "#0d0887"
            ],
            [
             0.1111111111111111,
             "#46039f"
            ],
            [
             0.2222222222222222,
             "#7201a8"
            ],
            [
             0.3333333333333333,
             "#9c179e"
            ],
            [
             0.4444444444444444,
             "#bd3786"
            ],
            [
             0.5555555555555556,
             "#d8576b"
            ],
            [
             0.6666666666666666,
             "#ed7953"
            ],
            [
             0.7777777777777778,
             "#fb9f3a"
            ],
            [
             0.8888888888888888,
             "#fdca26"
            ],
            [
             1,
             "#f0f921"
            ]
           ],
           "sequentialminus": [
            [
             0,
             "#0d0887"
            ],
            [
             0.1111111111111111,
             "#46039f"
            ],
            [
             0.2222222222222222,
             "#7201a8"
            ],
            [
             0.3333333333333333,
             "#9c179e"
            ],
            [
             0.4444444444444444,
             "#bd3786"
            ],
            [
             0.5555555555555556,
             "#d8576b"
            ],
            [
             0.6666666666666666,
             "#ed7953"
            ],
            [
             0.7777777777777778,
             "#fb9f3a"
            ],
            [
             0.8888888888888888,
             "#fdca26"
            ],
            [
             1,
             "#f0f921"
            ]
           ]
          },
          "colorway": [
           "#636efa",
           "#EF553B",
           "#00cc96",
           "#ab63fa",
           "#FFA15A",
           "#19d3f3",
           "#FF6692",
           "#B6E880",
           "#FF97FF",
           "#FECB52"
          ],
          "font": {
           "color": "#2a3f5f"
          },
          "geo": {
           "bgcolor": "white",
           "lakecolor": "white",
           "landcolor": "#E5ECF6",
           "showlakes": true,
           "showland": true,
           "subunitcolor": "white"
          },
          "hoverlabel": {
           "align": "left"
          },
          "hovermode": "closest",
          "mapbox": {
           "style": "light"
          },
          "paper_bgcolor": "white",
          "plot_bgcolor": "#E5ECF6",
          "polar": {
           "angularaxis": {
            "gridcolor": "white",
            "linecolor": "white",
            "ticks": ""
           },
           "bgcolor": "#E5ECF6",
           "radialaxis": {
            "gridcolor": "white",
            "linecolor": "white",
            "ticks": ""
           }
          },
          "scene": {
           "xaxis": {
            "backgroundcolor": "#E5ECF6",
            "gridcolor": "white",
            "gridwidth": 2,
            "linecolor": "white",
            "showbackground": true,
            "ticks": "",
            "zerolinecolor": "white"
           },
           "yaxis": {
            "backgroundcolor": "#E5ECF6",
            "gridcolor": "white",
            "gridwidth": 2,
            "linecolor": "white",
            "showbackground": true,
            "ticks": "",
            "zerolinecolor": "white"
           },
           "zaxis": {
            "backgroundcolor": "#E5ECF6",
            "gridcolor": "white",
            "gridwidth": 2,
            "linecolor": "white",
            "showbackground": true,
            "ticks": "",
            "zerolinecolor": "white"
           }
          },
          "shapedefaults": {
           "line": {
            "color": "#2a3f5f"
           }
          },
          "ternary": {
           "aaxis": {
            "gridcolor": "white",
            "linecolor": "white",
            "ticks": ""
           },
           "baxis": {
            "gridcolor": "white",
            "linecolor": "white",
            "ticks": ""
           },
           "bgcolor": "#E5ECF6",
           "caxis": {
            "gridcolor": "white",
            "linecolor": "white",
            "ticks": ""
           }
          },
          "title": {
           "x": 0.05
          },
          "xaxis": {
           "automargin": true,
           "gridcolor": "white",
           "linecolor": "white",
           "ticks": "",
           "title": {
            "standoff": 15
           },
           "zerolinecolor": "white",
           "zerolinewidth": 2
          },
          "yaxis": {
           "automargin": true,
           "gridcolor": "white",
           "linecolor": "white",
           "ticks": "",
           "title": {
            "standoff": 15
           },
           "zerolinecolor": "white",
           "zerolinewidth": 2
          }
         }
        },
        "xaxis": {
         "title": {
          "text": "x"
         }
        },
        "yaxis": {
         "title": {
          "text": "y"
         }
        }
       }
      },
      "text/html": [
       "<div>\n",
       "        \n",
       "        \n",
       "            <div id=\"37b8a638-3748-4bda-81ce-e32f452d4319\" class=\"plotly-graph-div\" style=\"height:525px; width:100%;\"></div>\n",
       "            <script type=\"text/javascript\">\n",
       "                require([\"plotly\"], function(Plotly) {\n",
       "                    window.PLOTLYENV=window.PLOTLYENV || {};\n",
       "                    \n",
       "                if (document.getElementById(\"37b8a638-3748-4bda-81ce-e32f452d4319\")) {\n",
       "                    Plotly.newPlot(\n",
       "                        '37b8a638-3748-4bda-81ce-e32f452d4319',\n",
       "                        [{\"name\": \"z\", \"type\": \"scatter3d\", \"x\": [\"2017-01-01\", \"2017-02-10\", \"2017-03-20\"], \"y\": [\"A\", \"B\", \"C\"], \"z\": [1, 1000, 100000]}],\n",
       "                        {\"scene\": {\"annotations\": [{\"opacity\": 0.7, \"showarrow\": false, \"text\": \"Point 1\", \"x\": \"2017-01-01\", \"xanchor\": \"left\", \"xshift\": 10, \"y\": \"A\", \"z\": 0}, {\"arrowcolor\": \"black\", \"arrowhead\": 1, \"arrowsize\": 3, \"arrowwidth\": 1, \"ax\": 0, \"ay\": -75, \"font\": {\"color\": \"black\", \"size\": 12}, \"text\": \"Point 2\", \"textangle\": 0, \"x\": \"2017-02-10\", \"y\": \"B\", \"z\": 4}, {\"arrowhead\": 1, \"ax\": 50, \"ay\": 0, \"text\": \"Point 3\", \"x\": \"2017-03-20\", \"xanchor\": \"left\", \"y\": \"C\", \"yanchor\": \"bottom\", \"z\": 5}], \"aspectratio\": {\"x\": 1, \"y\": 1, \"z\": 1}, \"camera\": {\"center\": {\"x\": 0, \"y\": 0, \"z\": 0}, \"eye\": {\"x\": 1.96903462608, \"y\": -1.09022831971, \"z\": 0.405345349304}, \"up\": {\"x\": 0, \"y\": 0, \"z\": 1}}, \"dragmode\": \"turntable\", \"xaxis\": {\"title\": {\"text\": \"\"}, \"type\": \"date\"}, \"yaxis\": {\"title\": {\"text\": \"\"}, \"type\": \"category\"}, \"zaxis\": {\"title\": {\"text\": \"\"}, \"type\": \"log\"}}, \"template\": {\"data\": {\"bar\": [{\"error_x\": {\"color\": \"#2a3f5f\"}, \"error_y\": {\"color\": \"#2a3f5f\"}, \"marker\": {\"line\": {\"color\": \"#E5ECF6\", \"width\": 0.5}}, \"type\": \"bar\"}], \"barpolar\": [{\"marker\": {\"line\": {\"color\": \"#E5ECF6\", \"width\": 0.5}}, \"type\": \"barpolar\"}], \"carpet\": [{\"aaxis\": {\"endlinecolor\": \"#2a3f5f\", \"gridcolor\": \"white\", \"linecolor\": \"white\", \"minorgridcolor\": \"white\", \"startlinecolor\": \"#2a3f5f\"}, \"baxis\": {\"endlinecolor\": \"#2a3f5f\", \"gridcolor\": \"white\", \"linecolor\": \"white\", \"minorgridcolor\": \"white\", \"startlinecolor\": \"#2a3f5f\"}, \"type\": \"carpet\"}], \"choropleth\": [{\"colorbar\": {\"outlinewidth\": 0, \"ticks\": \"\"}, \"type\": \"choropleth\"}], \"contour\": [{\"colorbar\": {\"outlinewidth\": 0, \"ticks\": \"\"}, \"colorscale\": [[0.0, \"#0d0887\"], [0.1111111111111111, \"#46039f\"], [0.2222222222222222, \"#7201a8\"], [0.3333333333333333, \"#9c179e\"], [0.4444444444444444, \"#bd3786\"], [0.5555555555555556, \"#d8576b\"], [0.6666666666666666, \"#ed7953\"], [0.7777777777777778, \"#fb9f3a\"], [0.8888888888888888, \"#fdca26\"], [1.0, \"#f0f921\"]], \"type\": \"contour\"}], \"contourcarpet\": [{\"colorbar\": {\"outlinewidth\": 0, \"ticks\": \"\"}, \"type\": \"contourcarpet\"}], \"heatmap\": [{\"colorbar\": {\"outlinewidth\": 0, \"ticks\": \"\"}, \"colorscale\": [[0.0, \"#0d0887\"], [0.1111111111111111, \"#46039f\"], [0.2222222222222222, \"#7201a8\"], [0.3333333333333333, \"#9c179e\"], [0.4444444444444444, \"#bd3786\"], [0.5555555555555556, \"#d8576b\"], [0.6666666666666666, \"#ed7953\"], [0.7777777777777778, \"#fb9f3a\"], [0.8888888888888888, \"#fdca26\"], [1.0, \"#f0f921\"]], \"type\": \"heatmap\"}], \"heatmapgl\": [{\"colorbar\": {\"outlinewidth\": 0, \"ticks\": \"\"}, \"colorscale\": [[0.0, \"#0d0887\"], [0.1111111111111111, \"#46039f\"], [0.2222222222222222, \"#7201a8\"], [0.3333333333333333, \"#9c179e\"], [0.4444444444444444, \"#bd3786\"], [0.5555555555555556, \"#d8576b\"], [0.6666666666666666, \"#ed7953\"], [0.7777777777777778, \"#fb9f3a\"], [0.8888888888888888, \"#fdca26\"], [1.0, \"#f0f921\"]], \"type\": \"heatmapgl\"}], \"histogram\": [{\"marker\": {\"colorbar\": {\"outlinewidth\": 0, \"ticks\": \"\"}}, \"type\": \"histogram\"}], \"histogram2d\": [{\"colorbar\": {\"outlinewidth\": 0, \"ticks\": \"\"}, \"colorscale\": [[0.0, \"#0d0887\"], [0.1111111111111111, \"#46039f\"], [0.2222222222222222, \"#7201a8\"], [0.3333333333333333, \"#9c179e\"], [0.4444444444444444, \"#bd3786\"], [0.5555555555555556, \"#d8576b\"], [0.6666666666666666, \"#ed7953\"], [0.7777777777777778, \"#fb9f3a\"], [0.8888888888888888, \"#fdca26\"], [1.0, \"#f0f921\"]], \"type\": \"histogram2d\"}], \"histogram2dcontour\": [{\"colorbar\": {\"outlinewidth\": 0, \"ticks\": \"\"}, \"colorscale\": [[0.0, \"#0d0887\"], [0.1111111111111111, \"#46039f\"], [0.2222222222222222, \"#7201a8\"], [0.3333333333333333, \"#9c179e\"], [0.4444444444444444, \"#bd3786\"], [0.5555555555555556, \"#d8576b\"], [0.6666666666666666, \"#ed7953\"], [0.7777777777777778, \"#fb9f3a\"], [0.8888888888888888, \"#fdca26\"], [1.0, \"#f0f921\"]], \"type\": \"histogram2dcontour\"}], \"mesh3d\": [{\"colorbar\": {\"outlinewidth\": 0, \"ticks\": \"\"}, \"type\": \"mesh3d\"}], \"parcoords\": [{\"line\": {\"colorbar\": {\"outlinewidth\": 0, \"ticks\": \"\"}}, \"type\": \"parcoords\"}], \"pie\": [{\"automargin\": true, \"type\": \"pie\"}], \"scatter\": [{\"marker\": {\"colorbar\": {\"outlinewidth\": 0, \"ticks\": \"\"}}, \"type\": \"scatter\"}], \"scatter3d\": [{\"line\": {\"colorbar\": {\"outlinewidth\": 0, \"ticks\": \"\"}}, \"marker\": {\"colorbar\": {\"outlinewidth\": 0, \"ticks\": \"\"}}, \"type\": \"scatter3d\"}], \"scattercarpet\": [{\"marker\": {\"colorbar\": {\"outlinewidth\": 0, \"ticks\": \"\"}}, \"type\": \"scattercarpet\"}], \"scattergeo\": [{\"marker\": {\"colorbar\": {\"outlinewidth\": 0, \"ticks\": \"\"}}, \"type\": \"scattergeo\"}], \"scattergl\": [{\"marker\": {\"colorbar\": {\"outlinewidth\": 0, \"ticks\": \"\"}}, \"type\": \"scattergl\"}], \"scattermapbox\": [{\"marker\": {\"colorbar\": {\"outlinewidth\": 0, \"ticks\": \"\"}}, \"type\": \"scattermapbox\"}], \"scatterpolar\": [{\"marker\": {\"colorbar\": {\"outlinewidth\": 0, \"ticks\": \"\"}}, \"type\": \"scatterpolar\"}], \"scatterpolargl\": [{\"marker\": {\"colorbar\": {\"outlinewidth\": 0, \"ticks\": \"\"}}, \"type\": \"scatterpolargl\"}], \"scatterternary\": [{\"marker\": {\"colorbar\": {\"outlinewidth\": 0, \"ticks\": \"\"}}, \"type\": \"scatterternary\"}], \"surface\": [{\"colorbar\": {\"outlinewidth\": 0, \"ticks\": \"\"}, \"colorscale\": [[0.0, \"#0d0887\"], [0.1111111111111111, \"#46039f\"], [0.2222222222222222, \"#7201a8\"], [0.3333333333333333, \"#9c179e\"], [0.4444444444444444, \"#bd3786\"], [0.5555555555555556, \"#d8576b\"], [0.6666666666666666, \"#ed7953\"], [0.7777777777777778, \"#fb9f3a\"], [0.8888888888888888, \"#fdca26\"], [1.0, \"#f0f921\"]], \"type\": \"surface\"}], \"table\": [{\"cells\": {\"fill\": {\"color\": \"#EBF0F8\"}, \"line\": {\"color\": \"white\"}}, \"header\": {\"fill\": {\"color\": \"#C8D4E3\"}, \"line\": {\"color\": \"white\"}}, \"type\": \"table\"}]}, \"layout\": {\"annotationdefaults\": {\"arrowcolor\": \"#2a3f5f\", \"arrowhead\": 0, \"arrowwidth\": 1}, \"coloraxis\": {\"colorbar\": {\"outlinewidth\": 0, \"ticks\": \"\"}}, \"colorscale\": {\"diverging\": [[0, \"#8e0152\"], [0.1, \"#c51b7d\"], [0.2, \"#de77ae\"], [0.3, \"#f1b6da\"], [0.4, \"#fde0ef\"], [0.5, \"#f7f7f7\"], [0.6, \"#e6f5d0\"], [0.7, \"#b8e186\"], [0.8, \"#7fbc41\"], [0.9, \"#4d9221\"], [1, \"#276419\"]], \"sequential\": [[0.0, \"#0d0887\"], [0.1111111111111111, \"#46039f\"], [0.2222222222222222, \"#7201a8\"], [0.3333333333333333, \"#9c179e\"], [0.4444444444444444, \"#bd3786\"], [0.5555555555555556, \"#d8576b\"], [0.6666666666666666, \"#ed7953\"], [0.7777777777777778, \"#fb9f3a\"], [0.8888888888888888, \"#fdca26\"], [1.0, \"#f0f921\"]], \"sequentialminus\": [[0.0, \"#0d0887\"], [0.1111111111111111, \"#46039f\"], [0.2222222222222222, \"#7201a8\"], [0.3333333333333333, \"#9c179e\"], [0.4444444444444444, \"#bd3786\"], [0.5555555555555556, \"#d8576b\"], [0.6666666666666666, \"#ed7953\"], [0.7777777777777778, \"#fb9f3a\"], [0.8888888888888888, \"#fdca26\"], [1.0, \"#f0f921\"]]}, \"colorway\": [\"#636efa\", \"#EF553B\", \"#00cc96\", \"#ab63fa\", \"#FFA15A\", \"#19d3f3\", \"#FF6692\", \"#B6E880\", \"#FF97FF\", \"#FECB52\"], \"font\": {\"color\": \"#2a3f5f\"}, \"geo\": {\"bgcolor\": \"white\", \"lakecolor\": \"white\", \"landcolor\": \"#E5ECF6\", \"showlakes\": true, \"showland\": true, \"subunitcolor\": \"white\"}, \"hoverlabel\": {\"align\": \"left\"}, \"hovermode\": \"closest\", \"mapbox\": {\"style\": \"light\"}, \"paper_bgcolor\": \"white\", \"plot_bgcolor\": \"#E5ECF6\", \"polar\": {\"angularaxis\": {\"gridcolor\": \"white\", \"linecolor\": \"white\", \"ticks\": \"\"}, \"bgcolor\": \"#E5ECF6\", \"radialaxis\": {\"gridcolor\": \"white\", \"linecolor\": \"white\", \"ticks\": \"\"}}, \"scene\": {\"xaxis\": {\"backgroundcolor\": \"#E5ECF6\", \"gridcolor\": \"white\", \"gridwidth\": 2, \"linecolor\": \"white\", \"showbackground\": true, \"ticks\": \"\", \"zerolinecolor\": \"white\"}, \"yaxis\": {\"backgroundcolor\": \"#E5ECF6\", \"gridcolor\": \"white\", \"gridwidth\": 2, \"linecolor\": \"white\", \"showbackground\": true, \"ticks\": \"\", \"zerolinecolor\": \"white\"}, \"zaxis\": {\"backgroundcolor\": \"#E5ECF6\", \"gridcolor\": \"white\", \"gridwidth\": 2, \"linecolor\": \"white\", \"showbackground\": true, \"ticks\": \"\", \"zerolinecolor\": \"white\"}}, \"shapedefaults\": {\"line\": {\"color\": \"#2a3f5f\"}}, \"ternary\": {\"aaxis\": {\"gridcolor\": \"white\", \"linecolor\": \"white\", \"ticks\": \"\"}, \"baxis\": {\"gridcolor\": \"white\", \"linecolor\": \"white\", \"ticks\": \"\"}, \"bgcolor\": \"#E5ECF6\", \"caxis\": {\"gridcolor\": \"white\", \"linecolor\": \"white\", \"ticks\": \"\"}}, \"title\": {\"x\": 0.05}, \"xaxis\": {\"automargin\": true, \"gridcolor\": \"white\", \"linecolor\": \"white\", \"ticks\": \"\", \"title\": {\"standoff\": 15}, \"zerolinecolor\": \"white\", \"zerolinewidth\": 2}, \"yaxis\": {\"automargin\": true, \"gridcolor\": \"white\", \"linecolor\": \"white\", \"ticks\": \"\", \"title\": {\"standoff\": 15}, \"zerolinecolor\": \"white\", \"zerolinewidth\": 2}}}, \"xaxis\": {\"title\": {\"text\": \"x\"}}, \"yaxis\": {\"title\": {\"text\": \"y\"}}},\n",
       "                        {\"responsive\": true}\n",
       "                    ).then(function(){\n",
       "                            \n",
       "var gd = document.getElementById('37b8a638-3748-4bda-81ce-e32f452d4319');\n",
       "var x = new MutationObserver(function (mutations, observer) {{\n",
       "        var display = window.getComputedStyle(gd).display;\n",
       "        if (!display || display === 'none') {{\n",
       "            console.log([gd, 'removed!']);\n",
       "            Plotly.purge(gd);\n",
       "            observer.disconnect();\n",
       "        }}\n",
       "}});\n",
       "\n",
       "// Listen for the removal of the full notebook cells\n",
       "var notebookContainer = gd.closest('#notebook-container');\n",
       "if (notebookContainer) {{\n",
       "    x.observe(notebookContainer, {childList: true});\n",
       "}}\n",
       "\n",
       "// Listen for the clearing of the current output cell\n",
       "var outputEl = gd.closest('.output');\n",
       "if (outputEl) {{\n",
       "    x.observe(outputEl, {childList: true});\n",
       "}}\n",
       "\n",
       "                        })\n",
       "                };\n",
       "                });\n",
       "            </script>\n",
       "        </div>"
      ]
     },
     "metadata": {},
     "output_type": "display_data"
    }
   ],
   "source": [
    "import plotly.graph_objects as go\n",
    "\n",
    "fig = go.Figure()\n",
    "\n",
    "fig.add_trace(go.Scatter3d(\n",
    "    x=[\"2017-01-01\", \"2017-02-10\", \"2017-03-20\"],\n",
    "    y=[\"A\", \"B\", \"C\"],\n",
    "    z=[1, 1000, 100000],\n",
    "    name=\"z\",\n",
    "))\n",
    "\n",
    "fig.update_layout(\n",
    "    scene=go.layout.Scene(\n",
    "        aspectratio=dict(\n",
    "            x=1,\n",
    "            y=1,\n",
    "            z=1\n",
    "        ),\n",
    "        camera=dict(\n",
    "            center=dict(\n",
    "                x=0,\n",
    "                y=0,\n",
    "                z=0\n",
    "            ),\n",
    "            eye=dict(\n",
    "                x=1.96903462608,\n",
    "                y=-1.09022831971,\n",
    "                z=0.405345349304\n",
    "            ),\n",
    "            up=dict(\n",
    "                x=0,\n",
    "                y=0,\n",
    "                z=1\n",
    "            )\n",
    "        ),\n",
    "        dragmode=\"turntable\",\n",
    "        xaxis=dict(\n",
    "            title_text=\"\",\n",
    "            type=\"date\"\n",
    "        ),\n",
    "        yaxis=dict(\n",
    "            title_text=\"\",\n",
    "            type=\"category\"\n",
    "        ),\n",
    "        zaxis=dict(\n",
    "            title_text=\"\",\n",
    "            type=\"log\"\n",
    "        ),\n",
    "        annotations=[dict(\n",
    "            showarrow=False,\n",
    "            x=\"2017-01-01\",\n",
    "            y=\"A\",\n",
    "            z=0,\n",
    "            text=\"Point 1\",\n",
    "            xanchor=\"left\",\n",
    "            xshift=10,\n",
    "            opacity=0.7\n",
    "        ), dict(\n",
    "            x=\"2017-02-10\",\n",
    "            y=\"B\",\n",
    "            z=4,\n",
    "            text=\"Point 2\",\n",
    "            textangle=0,\n",
    "            ax=0,\n",
    "            ay=-75,\n",
    "            font=dict(\n",
    "                color=\"black\",\n",
    "                size=12\n",
    "            ),\n",
    "            arrowcolor=\"black\",\n",
    "            arrowsize=3,\n",
    "            arrowwidth=1,\n",
    "            arrowhead=1\n",
    "        ), dict(\n",
    "            x=\"2017-03-20\",\n",
    "            y=\"C\",\n",
    "            z=5,\n",
    "            ax=50,\n",
    "            ay=0,\n",
    "            text=\"Point 3\",\n",
    "            arrowhead=1,\n",
    "            xanchor=\"left\",\n",
    "            yanchor=\"bottom\"\n",
    "        )]\n",
    "    ),\n",
    "    xaxis=dict(title_text=\"x\"),\n",
    "    yaxis=dict(title_text=\"y\")\n",
    ")\n",
    "\n",
    "fig.show()"
   ]
  },
  {
   "cell_type": "code",
   "execution_count": null,
   "metadata": {},
   "outputs": [],
   "source": []
  }
 ],
 "metadata": {
  "kernelspec": {
   "display_name": "Python 3",
   "language": "python",
   "name": "python3"
  },
  "language_info": {
   "codemirror_mode": {
    "name": "ipython",
    "version": 3
   },
   "file_extension": ".py",
   "mimetype": "text/x-python",
   "name": "python",
   "nbconvert_exporter": "python",
   "pygments_lexer": "ipython3",
   "version": "3.7.4"
  }
 },
 "nbformat": 4,
 "nbformat_minor": 2
}
