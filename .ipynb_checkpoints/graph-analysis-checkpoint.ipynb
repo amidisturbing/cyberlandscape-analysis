{
 "cells": [
  {
   "cell_type": "code",
   "execution_count": 1,
   "metadata": {},
   "outputs": [],
   "source": [
    "import networkx as nx\n",
    "import json\n",
    "import numpy as np\n",
    "import networkx as nx\n",
    "import matplotlib.pyplot as plt\n",
    "%matplotlib inline\n",
    "from bs4 import BeautifulSoup\n",
    "from networkx.readwrite import json_graph\n",
    "from networkx.algorithms import node_classification\n",
    "import plotly.graph_objs as go\n",
    "from ipywidgets import widgets\n"
   ]
  },
  {
   "cell_type": "code",
   "execution_count": 2,
   "metadata": {},
   "outputs": [],
   "source": [
    "path = \"../cyberlandscape/data.graphml\"\n",
    "\n",
    "#START get  Edge Attribute Fields with id----------------\n",
    "e_attr_types = []\n",
    "\n",
    "with open(path) as file:\n",
    "    soup = BeautifulSoup(file, \"lxml\")\n",
    "    edges = soup.findAll(\"key\",{\"for\":\"edge\"})\n",
    "\n",
    "for edge in edges:\n",
    "    #print (edge['id'])\n",
    "    if edge.has_attr('attr.name'):\n",
    "        e_attr_types.append({'id': edge['id'], 'attr':edge['attr.name']})\n",
    "#STOP get Node Attribute Fields and Edge Attribute Fields with id------------------------"
   ]
  },
  {
   "cell_type": "code",
   "execution_count": 3,
   "metadata": {},
   "outputs": [],
   "source": [
    "#read graphml\n",
    "G = nx.read_graphml(path)\n",
    "edges = G.edges\n",
    "nodes = G.nodes\n",
    "nodes_data = nodes.data()\n",
    "#node ids\n",
    "nodes_values = nodes.values()\n",
    "edges_data =  edges.data()\n",
    "#edge ids\n",
    "edges_values = edges.values()"
   ]
  },
  {
   "cell_type": "code",
   "execution_count": 4,
   "metadata": {},
   "outputs": [],
   "source": [
    "def get_subgraph_by_edge_attr(attr):\n",
    "    #grouping edges by edge attribute\n",
    "    edges_by_key = []\n",
    "    for e, datadict in G.edges.items():\n",
    "        #example: attr = 'oversight.legal'\n",
    "        key = attr\n",
    "        if key in datadict:\n",
    "            #print('datadict by key ;;;;;;;;;;;;;;', datadict[key])\n",
    "            edges_by_key.append(e)\n",
    "    G_e_key = G.edge_subgraph(edges_by_key)\n",
    "    #print(G_e_key.edges.data())\n",
    "    return G_e_key"
   ]
  },
  {
   "cell_type": "code",
   "execution_count": 5,
   "metadata": {},
   "outputs": [
    {
     "data": {
      "text/plain": [
       "[{'id': 'd22', 'attr': 'oversight.tech'},\n",
       " {'id': 'd23', 'attr': 'oversight.legal'},\n",
       " {'id': 'd24', 'attr': 'directs'},\n",
       " {'id': 'd25', 'attr': 'member'},\n",
       " {'id': 'd26', 'attr': 'shareholder'},\n",
       " {'id': 'd27', 'attr': 'complements'},\n",
       " {'id': 'd28', 'attr': 'communicate'},\n",
       " {'id': 'd29', 'attr': 'provides'},\n",
       " {'id': 'd30', 'attr': 'finances'},\n",
       " {'id': 'd31', 'attr': 'educates'},\n",
       " {'id': 'd32', 'attr': 'cooperates'},\n",
       " {'id': 'd33', 'attr': 'operates'},\n",
       " {'id': 'd34', 'attr': 'url'},\n",
       " {'id': 'd35', 'attr': 'description'}]"
      ]
     },
     "execution_count": 5,
     "metadata": {},
     "output_type": "execute_result"
    }
   ],
   "source": [
    "e_attr_types"
   ]
  },
  {
   "cell_type": "code",
   "execution_count": 10,
   "metadata": {},
   "outputs": [],
   "source": [
    "oversight_tech = e_attr_types[0]['attr']"
   ]
  },
  {
   "cell_type": "code",
   "execution_count": 83,
   "metadata": {},
   "outputs": [],
   "source": [
    "def get_edge_direction (edge_label):\n",
    "    a = edge_label\n",
    "    subG = get_subgraph_by_edge_attr(a)\n",
    "    e = subG.edges\n",
    "    for e in e_o_t:\n",
    "        source, target = e[0], e[1]\n",
    "        print (subG_oversight_tech.nodes[source]['label'], '--', '-->', subG_oversight_tech.nodes[target]['label'])"
   ]
  },
  {
   "cell_type": "code",
   "execution_count": 84,
   "metadata": {},
   "outputs": [
    {
     "name": "stdout",
     "output_type": "stream",
     "text": [
      "BMVg\n",
      "           -- --> Bw\n",
      "          \n",
      "BMVg\n",
      "           -- --> CIH\n",
      "BMVg\n",
      "           -- --> BAMAD\n",
      "          \n",
      "Bürger-Cert -- --> BSI\n",
      "          \n",
      "BAAINBw\n",
      "           -- --> BMVg\n",
      "          \n",
      "BSI\n",
      "           -- --> BMI\n",
      "          \n",
      "BMI\n",
      "           -- --> BBK\n",
      "          \n",
      "BMI\n",
      "           -- --> BfV\n",
      "          \n",
      "BMI\n",
      "           -- --> Bpol\n",
      "          \n",
      "BMI\n",
      "           -- --> BKA\n",
      "          \n",
      "BMI\n",
      "           -- --> ZITiS\n",
      "          \n",
      "BKAmt\n",
      "           -- --> BND\n",
      "          \n",
      "ITZ Bund\n",
      "           -- --> BMF\n",
      "          \n",
      "BND\n",
      "           -- --> BKAmt\n",
      "          \n",
      "BAKS\n",
      "           -- --> BMVg\n",
      "          \n",
      "BMF\n",
      "           -- --> BaFin\n",
      "          \n",
      "BMF\n",
      "           -- --> ZKA\n",
      "          \n",
      "BAMAD\n",
      "           -- --> BMVg\n",
      "          \n"
     ]
    }
   ],
   "source": [
    "get_edge_direction('finances')"
   ]
  },
  {
   "cell_type": "code",
   "execution_count": null,
   "metadata": {},
   "outputs": [],
   "source": []
  },
  {
   "cell_type": "code",
   "execution_count": null,
   "metadata": {},
   "outputs": [],
   "source": []
  }
 ],
 "metadata": {
  "kernelspec": {
   "display_name": "Python 3",
   "language": "python",
   "name": "python3"
  },
  "language_info": {
   "codemirror_mode": {
    "name": "ipython",
    "version": 3
   },
   "file_extension": ".py",
   "mimetype": "text/x-python",
   "name": "python",
   "nbconvert_exporter": "python",
   "pygments_lexer": "ipython3",
   "version": "3.7.4"
  }
 },
 "nbformat": 4,
 "nbformat_minor": 2
}
